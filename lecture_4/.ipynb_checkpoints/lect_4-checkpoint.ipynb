{
 "cells": [
  {
   "cell_type": "markdown",
   "id": "4fb12dad",
   "metadata": {},
   "source": [
    "#### Файлы\n",
    "https://pythonworld.ru/tipy-dannyx-v-python/fajly-rabota-s-fajlami.html"
   ]
  },
  {
   "cell_type": "code",
   "execution_count": null,
   "id": "026dce7b",
   "metadata": {},
   "outputs": [],
   "source": [
    "f = open(\"../data/text.txt\", 'r')\n",
    "text = f.read()\n",
    "f.close()\n",
    "text"
   ]
  },
  {
   "cell_type": "code",
   "execution_count": null,
   "id": "a5dc7baa",
   "metadata": {},
   "outputs": [],
   "source": [
    "f = open(\"../data/text.txt\", 'r')\n",
    "text = f.read(5)\n",
    "f.close()\n",
    "text"
   ]
  },
  {
   "cell_type": "code",
   "execution_count": null,
   "id": "214f28f4",
   "metadata": {},
   "outputs": [],
   "source": [
    "f = open(\"../data/text.txt\", 'r')\n",
    "text = f.readlines()\n",
    "f.close()\n",
    "text"
   ]
  },
  {
   "cell_type": "code",
   "execution_count": null,
   "id": "0c7b498a",
   "metadata": {},
   "outputs": [],
   "source": [
    "f = open(\"../data/text.txt\", 'r')\n",
    "for line in f:\n",
    "    print(line)\n",
    "f.close()"
   ]
  },
  {
   "cell_type": "code",
   "execution_count": null,
   "id": "1fa7cdf7",
   "metadata": {},
   "outputs": [],
   "source": [
    "f = open('../data/file_to_write.txt', 'w')\n",
    "for i in range(10):\n",
    "    f.write(str(i) + '\\n')\n",
    "f.close()"
   ]
  },
  {
   "cell_type": "code",
   "execution_count": null,
   "id": "be8876ce",
   "metadata": {},
   "outputs": [],
   "source": [
    "f = open(\"../data/file_to_write.txt\", 'r+')\n",
    "text = f.readlines()\n",
    "f.close()\n",
    "text"
   ]
  },
  {
   "cell_type": "code",
   "execution_count": null,
   "id": "61a7636f",
   "metadata": {},
   "outputs": [],
   "source": [
    "f = open('../data/file_to_write.txt', 'w')\n",
    "f.close()"
   ]
  },
  {
   "cell_type": "code",
   "execution_count": null,
   "id": "52d55180",
   "metadata": {},
   "outputs": [],
   "source": [
    "f = open(\"../data/file_to_write.txt\", 'r+')\n",
    "text = f.readlines()\n",
    "f.close()\n",
    "text"
   ]
  },
  {
   "cell_type": "code",
   "execution_count": null,
   "id": "fbb90c26",
   "metadata": {},
   "outputs": [],
   "source": [
    "f = open('../data/file_to_write.txt', 'w')\n",
    "for i in range(10):\n",
    "    f.write(str(i) + '\\n')\n",
    "f.close()"
   ]
  },
  {
   "cell_type": "code",
   "execution_count": null,
   "id": "a90f9b46",
   "metadata": {},
   "outputs": [],
   "source": [
    "f = open('../data/file_to_write.txt', 'a')\n",
    "for i in range(10, 20):\n",
    "    f.write(str(i) + '\\n')\n",
    "f.close()"
   ]
  },
  {
   "cell_type": "code",
   "execution_count": null,
   "id": "7119016e",
   "metadata": {},
   "outputs": [],
   "source": [
    "f = open(\"../data/file_to_write.txt\", 'r+')\n",
    "text = f.readlines()\n",
    "f.close()\n",
    "text"
   ]
  },
  {
   "cell_type": "code",
   "execution_count": null,
   "id": "e2ff3c15",
   "metadata": {},
   "outputs": [],
   "source": [
    "f = open(\"../data/file_to_write.txt\", 'x')\n",
    "text = f.readlines()\n",
    "f.close()\n",
    "text"
   ]
  },
  {
   "cell_type": "code",
   "execution_count": null,
   "id": "33af7358",
   "metadata": {},
   "outputs": [],
   "source": []
  },
  {
   "cell_type": "markdown",
   "id": "279cc4bc",
   "metadata": {},
   "source": [
    "#### Функции"
   ]
  },
  {
   "cell_type": "markdown",
   "id": "bd09aab9",
   "metadata": {},
   "source": [
    "Ключевое слово def говорит о том что далее будет определена функция. Далее идет название функции, в скобках список аргументов и двоеточие\n",
    "\n",
    "Инструкция return говорит о том что функция вернет значение, которое написано после него"
   ]
  },
  {
   "cell_type": "code",
   "execution_count": null,
   "id": "d2d3cc4c",
   "metadata": {},
   "outputs": [],
   "source": [
    "def my_add(x, y):\n",
    "    z = x + y\n",
    "    return z"
   ]
  },
  {
   "cell_type": "code",
   "execution_count": null,
   "id": "0c21822a",
   "metadata": {},
   "outputs": [],
   "source": [
    "my_add(10, 15)"
   ]
  },
  {
   "cell_type": "markdown",
   "id": "524bb43f",
   "metadata": {},
   "source": [
    "Вы можете явно задавать значения переменных при вызове функций, а не полагаться на порядок. \n",
    "\n",
    "Это считается хорошим тоном, если у функции много аргументов"
   ]
  },
  {
   "cell_type": "code",
   "execution_count": null,
   "id": "77d71540",
   "metadata": {},
   "outputs": [],
   "source": [
    "my_add(x=10, y=15)"
   ]
  },
  {
   "cell_type": "code",
   "execution_count": null,
   "id": "0861e841",
   "metadata": {},
   "outputs": [],
   "source": [
    "my_add(y=15, x=10)"
   ]
  },
  {
   "cell_type": "markdown",
   "id": "8e0e172c",
   "metadata": {},
   "source": [
    "Вы можете явно прописать только один аргумент"
   ]
  },
  {
   "cell_type": "code",
   "execution_count": null,
   "id": "e6a24309",
   "metadata": {},
   "outputs": [],
   "source": [
    "my_add(15, y=10)"
   ]
  },
  {
   "cell_type": "markdown",
   "id": "dad08b58",
   "metadata": {},
   "source": [
    "Если вы явно прописываете аргумент, то после него вы не можете не прописывать остальные явно"
   ]
  },
  {
   "cell_type": "code",
   "execution_count": null,
   "id": "d09edff4",
   "metadata": {},
   "outputs": [],
   "source": [
    "my_add(x=15, 10)"
   ]
  },
  {
   "cell_type": "markdown",
   "id": "30e0d1ae",
   "metadata": {},
   "source": [
    "Функции могут возвращать несколько значений"
   ]
  },
  {
   "cell_type": "code",
   "execution_count": null,
   "id": "cb0f8d2f",
   "metadata": {},
   "outputs": [],
   "source": [
    "def my_add_prod(x, y):\n",
    "    s = x + y\n",
    "    p = x * y\n",
    "    return s, p"
   ]
  },
  {
   "cell_type": "code",
   "execution_count": null,
   "id": "935898a8",
   "metadata": {},
   "outputs": [],
   "source": [
    "p_res, s_res = my_add_prod(10, 15)\n",
    "print(p_res, s_res)"
   ]
  },
  {
   "cell_type": "code",
   "execution_count": null,
   "id": "02f917d4",
   "metadata": {},
   "outputs": [],
   "source": [
    "res = my_add_prod(10, 15)\n",
    "print(res)\n",
    "print(type(res))"
   ]
  },
  {
   "cell_type": "markdown",
   "id": "a0487369",
   "metadata": {},
   "source": [
    "Если инструкция return не была выполнена, то функция вернет None"
   ]
  },
  {
   "cell_type": "code",
   "execution_count": null,
   "id": "f24cc1f7",
   "metadata": {},
   "outputs": [],
   "source": [
    "def do_nothing():\n",
    "    pass\n",
    "    \n",
    "print(do_nothing())"
   ]
  },
  {
   "cell_type": "markdown",
   "id": "3e5bda32",
   "metadata": {},
   "source": [
    "Обратите внимание, return есть в функции, но он не был исполнен"
   ]
  },
  {
   "cell_type": "code",
   "execution_count": null,
   "id": "a3a2de74",
   "metadata": {},
   "outputs": [],
   "source": [
    "def my_add(x, y):\n",
    "    z = x + y\n",
    "    if z > 1000000000:\n",
    "        return z\n",
    "print(my_add(10, 15))"
   ]
  },
  {
   "cell_type": "markdown",
   "id": "9377443e",
   "metadata": {},
   "source": [
    "Если после return нет никаких переменных, то так же вернется None"
   ]
  },
  {
   "cell_type": "code",
   "execution_count": null,
   "id": "827f551a",
   "metadata": {},
   "outputs": [],
   "source": [
    "def my_add(x, y):\n",
    "    z = x + y\n",
    "    return \n",
    "\n",
    "print(my_add(10, 15))"
   ]
  },
  {
   "cell_type": "markdown",
   "id": "f5597ddd",
   "metadata": {},
   "source": [
    "Функции можно (но не нужно) определять в другой функции"
   ]
  },
  {
   "cell_type": "code",
   "execution_count": null,
   "id": "7d2e4994",
   "metadata": {},
   "outputs": [],
   "source": [
    "def my_add(x, y):\n",
    "    def my_real_add(x, y):\n",
    "        z = x + y\n",
    "        return z\n",
    "    \n",
    "    return my_real_add(x, y) \n",
    "\n",
    "print(my_add(10, 15))"
   ]
  },
  {
   "cell_type": "markdown",
   "id": "ac64e117",
   "metadata": {},
   "source": [
    "Функция в качестве результата может возвращать функцию"
   ]
  },
  {
   "cell_type": "code",
   "execution_count": null,
   "id": "fb163ad1",
   "metadata": {},
   "outputs": [],
   "source": [
    "def get_substract():\n",
    "    def my_substract(x, y):\n",
    "        z = x - y\n",
    "        return z\n",
    "    \n",
    "    return my_substract\n",
    "\n",
    "real_subsctract = get_substract()"
   ]
  },
  {
   "cell_type": "code",
   "execution_count": null,
   "id": "31aca0bd",
   "metadata": {},
   "outputs": [],
   "source": [
    "real_subsctract(200, 100)"
   ]
  },
  {
   "cell_type": "markdown",
   "id": "87ce62a2",
   "metadata": {},
   "source": [
    "У аргументов функции могут быть значения по умолчанию. Это те значение, которые принимают аргументы функции, если они не заданы явно"
   ]
  },
  {
   "cell_type": "code",
   "execution_count": null,
   "id": "3dc441fe",
   "metadata": {},
   "outputs": [],
   "source": [
    "def read_file(file_path=\"../data/text.txt\"):\n",
    "    f = open(file_path, 'r')\n",
    "    text = f.readlines()\n",
    "    f.close()\n",
    "    return text"
   ]
  },
  {
   "cell_type": "code",
   "execution_count": null,
   "id": "408aafa2",
   "metadata": {},
   "outputs": [],
   "source": [
    "read_file()"
   ]
  },
  {
   "cell_type": "code",
   "execution_count": null,
   "id": "6c1d85e6",
   "metadata": {},
   "outputs": [],
   "source": [
    "read_file(file_path=\"../data/file_to_write.txt\")"
   ]
  },
  {
   "cell_type": "code",
   "execution_count": null,
   "id": "148acdd0",
   "metadata": {},
   "outputs": [],
   "source": [
    "read_file(\"../data/file_to_write.txt\")"
   ]
  },
  {
   "cell_type": "markdown",
   "id": "ce6a9bee",
   "metadata": {},
   "source": [
    "Аргументы у которых есть значения по умолчанию всегда идут после аргументов у которых значения по умолчанию нет"
   ]
  },
  {
   "cell_type": "code",
   "execution_count": null,
   "id": "1b5dd527",
   "metadata": {},
   "outputs": [],
   "source": [
    "def my_func(y=10, x):\n",
    "    pass"
   ]
  },
  {
   "cell_type": "markdown",
   "id": "0f218e78",
   "metadata": {},
   "source": [
    "Функция может принимать неограниченое число неименованых аргументов. Для этого используется аргумент *args"
   ]
  },
  {
   "cell_type": "code",
   "execution_count": null,
   "id": "8b862d59",
   "metadata": {},
   "outputs": [],
   "source": [
    "def print_and_sum_everything(*args):\n",
    "    print(type(args))\n",
    "    for arg in args:\n",
    "        print(arg)\n",
    "    return sum(args)"
   ]
  },
  {
   "cell_type": "code",
   "execution_count": null,
   "id": "02604166",
   "metadata": {},
   "outputs": [],
   "source": [
    "print_and_sum_everything(1,2,3,4,5)"
   ]
  },
  {
   "cell_type": "markdown",
   "id": "aeb48a91",
   "metadata": {},
   "source": [
    "Функция также может принимать неограниченное число именованых аргументов. Для это используется аргумент **kwargs"
   ]
  },
  {
   "cell_type": "code",
   "execution_count": null,
   "id": "d29e892c",
   "metadata": {},
   "outputs": [],
   "source": [
    "def sum_only_lower_case(**kwargs):\n",
    "    print(type(kwargs))\n",
    "    s = 0\n",
    "    for k, v in kwargs.items():\n",
    "        print(k, v)\n",
    "        if 'a' <= k <= 'z':\n",
    "            print(\"IN IF\")\n",
    "            s += v\n",
    "    return s"
   ]
  },
  {
   "cell_type": "code",
   "execution_count": null,
   "id": "0f074b4b",
   "metadata": {},
   "outputs": [],
   "source": [
    "sum_only_lower_case(a=1, A=2, b=3, B=4, c=5, C=6)"
   ]
  },
  {
   "cell_type": "markdown",
   "id": "58932f83",
   "metadata": {},
   "source": [
    "Лябмда функции позволяют написать короткую функцию в одну строку. Синтаксис такой:\n",
    "\n",
    "Ключевое слово lambda потом аргументы функции потом двоеточие потом то что вернет функция"
   ]
  },
  {
   "cell_type": "code",
   "execution_count": null,
   "id": "0b4e4195",
   "metadata": {},
   "outputs": [],
   "source": [
    "lambda_sum = lambda x, y: x + y"
   ]
  },
  {
   "cell_type": "code",
   "execution_count": null,
   "id": "326ce898",
   "metadata": {},
   "outputs": [],
   "source": [
    "lambda_sum(5, 10)"
   ]
  },
  {
   "cell_type": "markdown",
   "id": "07e3c598",
   "metadata": {},
   "source": [
    "Функция isinstance проверяет принадлежит ли объект в первом аргументе типу, который указан во втором аргументе"
   ]
  },
  {
   "cell_type": "code",
   "execution_count": null,
   "id": "b64d678b",
   "metadata": {},
   "outputs": [],
   "source": [
    "to_lower = lambda *args: ''.join([x.lower() for x in args if isinstance(x, str)])"
   ]
  },
  {
   "cell_type": "code",
   "execution_count": null,
   "id": "f37d43ed",
   "metadata": {},
   "outputs": [],
   "source": [
    "to_lower('A', 'a', 'B', 2, 'C', 'DE')"
   ]
  },
  {
   "cell_type": "markdown",
   "id": "7f2d8d13",
   "metadata": {},
   "source": [
    "#### Рекурсия"
   ]
  },
  {
   "cell_type": "markdown",
   "id": "94c61655",
   "metadata": {},
   "source": [
    "Рекурсия -- это вызов функцией самой себя"
   ]
  },
  {
   "cell_type": "markdown",
   "id": "276f4bc9",
   "metadata": {},
   "source": [
    "Функция для вычисления элементов последовательности фибоначчи.\n",
    "\n",
    "Последовательность определяется так: Нулевой элемент равен нулю, первый равен единице, а любой следующий равен сумме двух предыдущих"
   ]
  },
  {
   "cell_type": "code",
   "execution_count": null,
   "id": "8d903980",
   "metadata": {},
   "outputs": [],
   "source": [
    "def fib(n):\n",
    "    if n in {0, 1}:\n",
    "        return n\n",
    "    return fib(n - 1) + fib(n - 2)\n",
    "    "
   ]
  },
  {
   "cell_type": "code",
   "execution_count": null,
   "id": "9f3e09d9",
   "metadata": {},
   "outputs": [],
   "source": [
    "[fib(i) for i in range(10)]"
   ]
  },
  {
   "cell_type": "markdown",
   "id": "f75fa91a",
   "metadata": {},
   "source": [
    "Функция для вычисления факториала. Факториал нуля -- единица. Факториал всех остальных натуральных чисел -- это произведение всех чисел до этого числа включительно: \n",
    "\n",
    "$$n! = 1 * 2 * ... * n$$"
   ]
  },
  {
   "cell_type": "code",
   "execution_count": null,
   "id": "f4ba7413",
   "metadata": {},
   "outputs": [],
   "source": [
    "def factorial(n):\n",
    "    if n == 0:\n",
    "        return 1\n",
    "    return n * factorial(n - 1)"
   ]
  },
  {
   "cell_type": "code",
   "execution_count": null,
   "id": "e0208b77",
   "metadata": {},
   "outputs": [],
   "source": [
    "factorial(100)"
   ]
  },
  {
   "cell_type": "markdown",
   "id": "d6b8367f",
   "metadata": {},
   "source": [
    "#### Модули"
   ]
  },
  {
   "cell_type": "markdown",
   "id": "adbe992c",
   "metadata": {},
   "source": [
    "https://pythonworld.ru/moduli"
   ]
  },
  {
   "cell_type": "code",
   "execution_count": null,
   "id": "cf045762",
   "metadata": {},
   "outputs": [],
   "source": []
  }
 ],
 "metadata": {
  "kernelspec": {
   "display_name": "Python 3 (ipykernel)",
   "language": "python",
   "name": "python3"
  },
  "language_info": {
   "codemirror_mode": {
    "name": "ipython",
    "version": 3
   },
   "file_extension": ".py",
   "mimetype": "text/x-python",
   "name": "python",
   "nbconvert_exporter": "python",
   "pygments_lexer": "ipython3",
   "version": "3.9.13"
  }
 },
 "nbformat": 4,
 "nbformat_minor": 5
}
