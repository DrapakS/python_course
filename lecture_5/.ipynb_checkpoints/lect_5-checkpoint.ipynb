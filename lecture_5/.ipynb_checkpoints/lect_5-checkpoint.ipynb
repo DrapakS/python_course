{
 "cells": [
  {
   "cell_type": "markdown",
   "id": "6deade93",
   "metadata": {},
   "source": [
    "#### Классы в python"
   ]
  },
  {
   "cell_type": "code",
   "execution_count": 4,
   "id": "f3a1a60b",
   "metadata": {},
   "outputs": [],
   "source": [
    "class Pet:\n",
    "    def __init__(self, name):\n",
    "        self.name = name\n",
    "    \n",
    "    def feed(self):\n",
    "        print(f\"{self.name} is eating\")\n",
    "        "
   ]
  },
  {
   "cell_type": "code",
   "execution_count": 8,
   "id": "7a9d7029",
   "metadata": {},
   "outputs": [],
   "source": [
    "my_pet = Pet(\"Sharik\")"
   ]
  },
  {
   "cell_type": "code",
   "execution_count": 9,
   "id": "3b1665b7",
   "metadata": {},
   "outputs": [
    {
     "name": "stdout",
     "output_type": "stream",
     "text": [
      "Sharik is eating\n"
     ]
    }
   ],
   "source": [
    "my_pet.feed()"
   ]
  },
  {
   "cell_type": "code",
   "execution_count": 15,
   "id": "78406b1d",
   "metadata": {},
   "outputs": [],
   "source": [
    "class Dog(pet):\n",
    "    def say(self):\n",
    "        print(f\"{self.name} said WOOOOOF\")\n",
    "     "
   ]
  },
  {
   "cell_type": "code",
   "execution_count": 16,
   "id": "12f0ef05",
   "metadata": {},
   "outputs": [],
   "source": [
    "my_dog = Dog(\"Sharik\")"
   ]
  },
  {
   "cell_type": "code",
   "execution_count": 18,
   "id": "3cec241e",
   "metadata": {},
   "outputs": [
    {
     "name": "stdout",
     "output_type": "stream",
     "text": [
      "Sharik said WOOOOOF\n"
     ]
    }
   ],
   "source": [
    "my_dog.say()"
   ]
  },
  {
   "cell_type": "code",
   "execution_count": 13,
   "id": "7a373114",
   "metadata": {},
   "outputs": [
    {
     "name": "stdout",
     "output_type": "stream",
     "text": [
      "Sharik is eating\n"
     ]
    }
   ],
   "source": [
    "my_dog.feed()"
   ]
  },
  {
   "cell_type": "code",
   "execution_count": 19,
   "id": "66dfcae4",
   "metadata": {},
   "outputs": [],
   "source": [
    "class Cat(pet):\n",
    "    def say(self):\n",
    "        print(f\"{self.name} said purr\")\n",
    "     "
   ]
  },
  {
   "cell_type": "code",
   "execution_count": 20,
   "id": "31048fce",
   "metadata": {},
   "outputs": [
    {
     "name": "stdout",
     "output_type": "stream",
     "text": [
      "Masya said purr\n"
     ]
    }
   ],
   "source": [
    "my_cat = Cat(\"Masya\")\n",
    "my_cat.say()"
   ]
  },
  {
   "cell_type": "markdown",
   "id": "9541e9f7",
   "metadata": {},
   "source": [
    "Если название метода начинается и заканчивается с двух нижних подчеркиваний \\__ то это специальный метод. Подробно про них можно почитать по ссылке ниже\n",
    "\n",
    "https://habr.com/ru/post/186608/"
   ]
  },
  {
   "cell_type": "code",
   "execution_count": 33,
   "id": "63b9da89",
   "metadata": {},
   "outputs": [],
   "source": [
    "import os\n",
    "\n",
    "class FileObject:\n",
    "    ## Конструктор класса\n",
    "    def __init__(self, filepath='~', filename='sample.txt'):\n",
    "        self.file = open(os.path.join(filepath, filename), 'r+')\n",
    "        \n",
    "    \n",
    "    ## Деструктор класса\n",
    "    def __del__(self):\n",
    "        print(\"Deliting object\")\n",
    "        self.file.close()\n",
    "        del self.file\n",
    "        \n",
    "    \n",
    "    def read(self):\n",
    "        return self.file.read()\n",
    "        "
   ]
  },
  {
   "cell_type": "code",
   "execution_count": 34,
   "id": "c434863a",
   "metadata": {},
   "outputs": [],
   "source": [
    "fo = FileObject('../data', 'text.txt')"
   ]
  },
  {
   "cell_type": "code",
   "execution_count": 35,
   "id": "df13aaff",
   "metadata": {},
   "outputs": [
    {
     "data": {
      "text/plain": [
       "'123\\nqwerty\\nasdqw\\nxvzgf\\nmy_line;\\nafbdzkjn\\n'"
      ]
     },
     "execution_count": 35,
     "metadata": {},
     "output_type": "execute_result"
    }
   ],
   "source": [
    "fo.read()"
   ]
  },
  {
   "cell_type": "code",
   "execution_count": 36,
   "id": "583cf52c",
   "metadata": {},
   "outputs": [
    {
     "name": "stdout",
     "output_type": "stream",
     "text": [
      "Deliting object\n"
     ]
    }
   ],
   "source": [
    "del fo"
   ]
  },
  {
   "cell_type": "markdown",
   "id": "968ba99f",
   "metadata": {},
   "source": [
    "#### Уровни доступа в python"
   ]
  },
  {
   "cell_type": "code",
   "execution_count": 63,
   "id": "e471e716",
   "metadata": {},
   "outputs": [],
   "source": [
    "class Car:\n",
    "    def __init__(self):\n",
    "        self.__private_variable = 10\n",
    "    \n",
    "    def __start_engine(self):\n",
    "        return \"Engine's sound.\"\n",
    "\n",
    "    def run(self):\n",
    "        print(self.__private_variable)\n",
    "        return self.__start_engine()\n",
    "    \n",
    "\n",
    "\n",
    "car = Car()\n",
    "\n"
   ]
  },
  {
   "cell_type": "code",
   "execution_count": 64,
   "id": "406b4b68",
   "metadata": {},
   "outputs": [
    {
     "name": "stdout",
     "output_type": "stream",
     "text": [
      "10\n"
     ]
    },
    {
     "data": {
      "text/plain": [
       "\"Engine's sound.\""
      ]
     },
     "execution_count": 64,
     "metadata": {},
     "output_type": "execute_result"
    }
   ],
   "source": [
    "car.run()"
   ]
  },
  {
   "cell_type": "code",
   "execution_count": 65,
   "id": "11fb550e",
   "metadata": {},
   "outputs": [
    {
     "ename": "AttributeError",
     "evalue": "'Car' object has no attribute '__start_engine'",
     "output_type": "error",
     "traceback": [
      "\u001b[0;31m---------------------------------------------------------------------------\u001b[0m",
      "\u001b[0;31mAttributeError\u001b[0m                            Traceback (most recent call last)",
      "Input \u001b[0;32mIn [65]\u001b[0m, in \u001b[0;36m<cell line: 1>\u001b[0;34m()\u001b[0m\n\u001b[0;32m----> 1\u001b[0m \u001b[43mcar\u001b[49m\u001b[38;5;241;43m.\u001b[39;49m\u001b[43m__start_engine\u001b[49m()\n",
      "\u001b[0;31mAttributeError\u001b[0m: 'Car' object has no attribute '__start_engine'"
     ]
    }
   ],
   "source": [
    "car.__start_engine()"
   ]
  },
  {
   "cell_type": "code",
   "execution_count": 66,
   "id": "f1d9c1f2",
   "metadata": {},
   "outputs": [
    {
     "ename": "AttributeError",
     "evalue": "'Car' object has no attribute '__private_variable'",
     "output_type": "error",
     "traceback": [
      "\u001b[0;31m---------------------------------------------------------------------------\u001b[0m",
      "\u001b[0;31mAttributeError\u001b[0m                            Traceback (most recent call last)",
      "Input \u001b[0;32mIn [66]\u001b[0m, in \u001b[0;36m<cell line: 1>\u001b[0;34m()\u001b[0m\n\u001b[0;32m----> 1\u001b[0m \u001b[43mcar\u001b[49m\u001b[38;5;241;43m.\u001b[39;49m\u001b[43m__private_variable\u001b[49m\n",
      "\u001b[0;31mAttributeError\u001b[0m: 'Car' object has no attribute '__private_variable'"
     ]
    }
   ],
   "source": [
    "car.__private_variable"
   ]
  },
  {
   "cell_type": "markdown",
   "id": "e2b56bba",
   "metadata": {},
   "source": [
    "#### Статические и классовые методы"
   ]
  },
  {
   "cell_type": "code",
   "execution_count": 67,
   "id": "6032d461",
   "metadata": {},
   "outputs": [],
   "source": [
    "class ToyClass:\n",
    "    def instancemethod(self):\n",
    "        return 'instance method called', self\n",
    "    \n",
    "    @classmethod\n",
    "    def classmethod(cls):\n",
    "        return 'class method called', cls\n",
    "    \n",
    "    @staticmethod\n",
    "    def staticmethod():\n",
    "        return 'static method called'"
   ]
  },
  {
   "cell_type": "code",
   "execution_count": 68,
   "id": "b6c92f19",
   "metadata": {},
   "outputs": [
    {
     "data": {
      "text/plain": [
       "('class method called', __main__.ToyClass)"
      ]
     },
     "execution_count": 68,
     "metadata": {},
     "output_type": "execute_result"
    }
   ],
   "source": [
    "ToyClass.classmethod()"
   ]
  },
  {
   "cell_type": "code",
   "execution_count": 69,
   "id": "1cc978e4",
   "metadata": {},
   "outputs": [
    {
     "data": {
      "text/plain": [
       "'static method called'"
      ]
     },
     "execution_count": 69,
     "metadata": {},
     "output_type": "execute_result"
    }
   ],
   "source": [
    "ToyClass.staticmethod()"
   ]
  },
  {
   "cell_type": "code",
   "execution_count": 70,
   "id": "a872cdac",
   "metadata": {},
   "outputs": [
    {
     "ename": "TypeError",
     "evalue": "instancemethod() missing 1 required positional argument: 'self'",
     "output_type": "error",
     "traceback": [
      "\u001b[0;31m---------------------------------------------------------------------------\u001b[0m",
      "\u001b[0;31mTypeError\u001b[0m                                 Traceback (most recent call last)",
      "Input \u001b[0;32mIn [70]\u001b[0m, in \u001b[0;36m<cell line: 1>\u001b[0;34m()\u001b[0m\n\u001b[0;32m----> 1\u001b[0m \u001b[43mToyClass\u001b[49m\u001b[38;5;241;43m.\u001b[39;49m\u001b[43minstancemethod\u001b[49m\u001b[43m(\u001b[49m\u001b[43m)\u001b[49m\n",
      "\u001b[0;31mTypeError\u001b[0m: instancemethod() missing 1 required positional argument: 'self'"
     ]
    }
   ],
   "source": [
    "ToyClass.instancemethod()"
   ]
  },
  {
   "cell_type": "code",
   "execution_count": 72,
   "id": "ea482e0a",
   "metadata": {},
   "outputs": [],
   "source": [
    "obj = ToyClass()"
   ]
  },
  {
   "cell_type": "code",
   "execution_count": 73,
   "id": "12a1cb9d",
   "metadata": {},
   "outputs": [
    {
     "data": {
      "text/plain": [
       "('instance method called', <__main__.ToyClass at 0x1071d2af0>)"
      ]
     },
     "execution_count": 73,
     "metadata": {},
     "output_type": "execute_result"
    }
   ],
   "source": [
    "obj.instancemethod()"
   ]
  },
  {
   "cell_type": "code",
   "execution_count": null,
   "id": "47667d77",
   "metadata": {},
   "outputs": [],
   "source": []
  },
  {
   "cell_type": "code",
   "execution_count": null,
   "id": "9a4dda74",
   "metadata": {},
   "outputs": [],
   "source": []
  }
 ],
 "metadata": {
  "kernelspec": {
   "display_name": "Python 3 (ipykernel)",
   "language": "python",
   "name": "python3"
  },
  "language_info": {
   "codemirror_mode": {
    "name": "ipython",
    "version": 3
   },
   "file_extension": ".py",
   "mimetype": "text/x-python",
   "name": "python",
   "nbconvert_exporter": "python",
   "pygments_lexer": "ipython3",
   "version": "3.9.13"
  }
 },
 "nbformat": 4,
 "nbformat_minor": 5
}
