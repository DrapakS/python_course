{
 "cells": [
  {
   "cell_type": "markdown",
   "id": "65881ed9",
   "metadata": {},
   "source": [
    "http://algolist.ru/"
   ]
  },
  {
   "cell_type": "code",
   "execution_count": null,
   "id": "8896f35d",
   "metadata": {},
   "outputs": [],
   "source": [
    "import time\n",
    "import math"
   ]
  },
  {
   "cell_type": "markdown",
   "id": "3ce54b14",
   "metadata": {},
   "source": [
    "### Binsearch"
   ]
  },
  {
   "cell_type": "code",
   "execution_count": 76,
   "id": "4115269f",
   "metadata": {},
   "outputs": [],
   "source": [
    "size = 100000000"
   ]
  },
  {
   "cell_type": "code",
   "execution_count": 3,
   "id": "b4175ff1",
   "metadata": {},
   "outputs": [
    {
     "name": "stdout",
     "output_type": "stream",
     "text": [
      "80000000\n",
      "CPU times: user 6.2 s, sys: 218 ms, total: 6.42 s\n",
      "Wall time: 6.12 s\n"
     ]
    }
   ],
   "source": [
    "%%time\n",
    "num_to_search = 80000000\n",
    "for i, x in enumerate(a):\n",
    "    if x == num_to_search:\n",
    "        print(i)\n",
    "        break"
   ]
  },
  {
   "cell_type": "code",
   "execution_count": 72,
   "id": "bc50eabb",
   "metadata": {},
   "outputs": [],
   "source": [
    "a = list(range(size))"
   ]
  },
  {
   "cell_type": "code",
   "execution_count": 5,
   "id": "485cfce2",
   "metadata": {},
   "outputs": [
    {
     "name": "stdout",
     "output_type": "stream",
     "text": [
      "80000000\n",
      "CPU times: user 4.35 s, sys: 341 ms, total: 4.69 s\n",
      "Wall time: 5.16 s\n"
     ]
    }
   ],
   "source": [
    "%%time\n",
    "num_to_search = 80000000\n",
    "for i, x in enumerate(a):\n",
    "    if x == num_to_search:\n",
    "        print(i)\n",
    "        break"
   ]
  },
  {
   "cell_type": "code",
   "execution_count": 81,
   "id": "9293e08d",
   "metadata": {},
   "outputs": [
    {
     "name": "stdout",
     "output_type": "stream",
     "text": [
      "2.42 µs ± 29.1 ns per loop (mean ± std. dev. of 7 runs, 100,000 loops each)\n"
     ]
    }
   ],
   "source": [
    "%%timeit \n",
    "num_to_search = 80000000\n",
    "\n",
    "hi = len(a)\n",
    "lo = 0\n",
    "result = None\n",
    "while lo < hi:\n",
    "    mid = (lo+hi)//2\n",
    "    midval = a[mid]\n",
    "    if midval < num_to_search:\n",
    "        lo = mid+1\n",
    "    elif midval > num_to_search: \n",
    "        hi = mid\n",
    "    else:\n",
    "        result = mid\n",
    "        break"
   ]
  },
  {
   "cell_type": "code",
   "execution_count": 75,
   "id": "25c1a010",
   "metadata": {},
   "outputs": [
    {
     "name": "stdout",
     "output_type": "stream",
     "text": [
      "80000000\n"
     ]
    }
   ],
   "source": [
    "print(result)"
   ]
  },
  {
   "cell_type": "code",
   "execution_count": 78,
   "id": "c2734f3a",
   "metadata": {},
   "outputs": [
    {
     "data": {
      "text/plain": [
       "(100000000, 18.420680743952367)"
      ]
     },
     "execution_count": 78,
     "metadata": {},
     "output_type": "execute_result"
    }
   ],
   "source": [
    "size, math.log(size)"
   ]
  },
  {
   "cell_type": "code",
   "execution_count": null,
   "id": "42858871",
   "metadata": {},
   "outputs": [],
   "source": []
  },
  {
   "cell_type": "markdown",
   "id": "031c4edf",
   "metadata": {},
   "source": [
    "### Sequence"
   ]
  },
  {
   "cell_type": "code",
   "execution_count": 140,
   "id": "b6737502",
   "metadata": {},
   "outputs": [],
   "source": [
    "n = 20000\n",
    "a = list(range(n))\n",
    "#a[11111] = 12"
   ]
  },
  {
   "cell_type": "code",
   "execution_count": 141,
   "id": "4c5e2da4",
   "metadata": {},
   "outputs": [
    {
     "name": "stdout",
     "output_type": "stream",
     "text": [
      "NOT OK\n",
      "CPU times: user 5.56 s, sys: 48.8 ms, total: 5.61 s\n",
      "Wall time: 5.68 s\n"
     ]
    }
   ],
   "source": [
    "%%time\n",
    "\n",
    "for i in range(n + 1):\n",
    "    make_brake = False\n",
    "    if i == n:\n",
    "        print(\"OK\")\n",
    "        break\n",
    "    \n",
    "    for j in range(n + 1):\n",
    "        \n",
    "        if j == n:\n",
    "            print(\"NOT OK\")\n",
    "            make_brake = True\n",
    "            break\n",
    "        if a[j] == i:\n",
    "            break\n",
    "        \n",
    "    if make_brake:\n",
    "        break\n"
   ]
  },
  {
   "cell_type": "code",
   "execution_count": null,
   "id": "22a5b7d0",
   "metadata": {},
   "outputs": [],
   "source": [
    "%%time\n",
    "b = [-1] * n\n",
    "is_fine = True\n",
    "for i in range(n + 1):\n",
    "    if i == n:\n",
    "        print(\"OK\")\n",
    "        break\n",
    "    \n",
    "    if (i < 0) or (i > n - 1):\n",
    "        print(\"NOT OK\")\n",
    "        break\n",
    "    j = a[i]\n",
    "    if b[j] != -1:\n",
    "        print(\"NOT OK\")\n",
    "        break\n",
    "    b[j] = i\n",
    "\n",
    "    "
   ]
  },
  {
   "cell_type": "code",
   "execution_count": null,
   "id": "e9f5b0c4",
   "metadata": {},
   "outputs": [],
   "source": []
  },
  {
   "cell_type": "code",
   "execution_count": 143,
   "id": "a2db6f5d",
   "metadata": {},
   "outputs": [],
   "source": []
  },
  {
   "cell_type": "code",
   "execution_count": 151,
   "id": "611eb508",
   "metadata": {},
   "outputs": [],
   "source": [
    "# array\n",
    "import array\n",
    "a = array.array('f', [1,2,3])"
   ]
  },
  {
   "cell_type": "code",
   "execution_count": 153,
   "id": "fdfc631b",
   "metadata": {},
   "outputs": [],
   "source": [
    "# numpy array\n",
    "import numpy as np\n",
    "a = np.array([1,2,3])"
   ]
  },
  {
   "cell_type": "code",
   "execution_count": 154,
   "id": "c06007a5",
   "metadata": {},
   "outputs": [],
   "source": [
    "# list\n",
    "a = [1,2,3]"
   ]
  },
  {
   "cell_type": "code",
   "execution_count": null,
   "id": "9179c583",
   "metadata": {},
   "outputs": [],
   "source": []
  },
  {
   "cell_type": "markdown",
   "id": "de4f9a54",
   "metadata": {},
   "source": [
    "#### Пример реализации списка"
   ]
  },
  {
   "cell_type": "code",
   "execution_count": 113,
   "id": "87fee07f",
   "metadata": {},
   "outputs": [],
   "source": [
    "class Node:\n",
    "    def __init__(self, value):\n",
    "        self.value = value\n",
    "        self.next = None\n",
    "        \n",
    "class List:\n",
    "    def __init__(self):\n",
    "        self.head = None\n",
    "        self.tail = None\n",
    "    \n",
    "    def append(self, value):\n",
    "        if self.head is None:\n",
    "            self.head = Node(value)\n",
    "            self.tail = self.head\n",
    "            return\n",
    "        \n",
    "        new_node = Node(value)\n",
    "        self.tail.next = new_node\n",
    "        self.tail = new_node\n",
    "        \n",
    "    def find(self, val):\n",
    "        pointer = self.head\n",
    "        while pointer is not None:\n",
    "            if pointer.value == val:\n",
    "                return pointer\n",
    "            pointer = pointer.next\n",
    "        return None\n",
    "    \n",
    "    def remove_element(self, val):\n",
    "        if self.head == None:\n",
    "            print(\"Empty list\")\n",
    "            return None\n",
    "        \n",
    "        # Удаляем голову списка, если ее значение совпадает с val\n",
    "        pointer = self.head\n",
    "        if pointer.value == val:\n",
    "            self.head = self.head.next\n",
    "            del pointer\n",
    "            return\n",
    "        \n",
    "        # Пока есть следующий элемент\n",
    "        while pointer.next is not None:\n",
    "            # Есши значение следующего элемента совпадает с искомым:\n",
    "            if pointer.next.value == val:\n",
    "                # запоминаем объект для удаления\n",
    "                to_remove = pointer.next\n",
    "                # Ставим в качестве указателя на следующий элемент текущего\n",
    "                # следующий элемент следующего элемента\n",
    "                pointer.next = pointer.next.next\n",
    "                # удаляем текущий элемент\n",
    "                del to_remove\n",
    "                return\n",
    "            pointer = pointer.next\n",
    "        \n",
    "        # Если мы дошли до сюда, то это значит что такого элемента не нашлось\n",
    "        return None\n",
    "    \n",
    "\n",
    "    def reverse(self):\n",
    "        prev_elem = None\n",
    "        next_elem = None\n",
    "        current = self.head\n",
    "        \n",
    "        while current != None:\n",
    "            next_elem = current.next\n",
    "            current.next = prev_elem\n",
    "            prev_elem = current\n",
    "            current = next_elem\n",
    "        self.head = prev_elem\n",
    "        \n",
    "    "
   ]
  },
  {
   "cell_type": "code",
   "execution_count": null,
   "id": "c3e6f8ca",
   "metadata": {},
   "outputs": [],
   "source": []
  },
  {
   "cell_type": "code",
   "execution_count": 130,
   "id": "60e5697c",
   "metadata": {},
   "outputs": [],
   "source": [
    "l = List()"
   ]
  },
  {
   "cell_type": "code",
   "execution_count": 131,
   "id": "dd2892e3",
   "metadata": {},
   "outputs": [],
   "source": [
    "l.append(10)\n",
    "l.append(100)\n",
    "l.append(1000)\n",
    "l.append(10000)"
   ]
  },
  {
   "cell_type": "code",
   "execution_count": null,
   "id": "12e12c4d",
   "metadata": {},
   "outputs": [],
   "source": []
  },
  {
   "cell_type": "code",
   "execution_count": 132,
   "id": "8e60f6aa",
   "metadata": {},
   "outputs": [],
   "source": [
    "pointer = l.head\n",
    "while pointer is not None:\n",
    "    print(pointer.value)\n",
    "    pointer = pointer.next"
   ]
  },
  {
   "cell_type": "code",
   "execution_count": 133,
   "id": "627109bc",
   "metadata": {},
   "outputs": [],
   "source": [
    "l.reverse()"
   ]
  },
  {
   "cell_type": "code",
   "execution_count": 129,
   "id": "e2bae795",
   "metadata": {},
   "outputs": [
    {
     "name": "stdout",
     "output_type": "stream",
     "text": [
      "100\n",
      "10\n"
     ]
    }
   ],
   "source": [
    "pointer = l.head\n",
    "while pointer is not None:\n",
    "    print(pointer.value)\n",
    "    pointer = pointer.next"
   ]
  },
  {
   "cell_type": "code",
   "execution_count": null,
   "id": "b10e95e6",
   "metadata": {},
   "outputs": [],
   "source": []
  },
  {
   "cell_type": "code",
   "execution_count": 81,
   "id": "e63034ff",
   "metadata": {},
   "outputs": [],
   "source": [
    "res = l.find(100)"
   ]
  },
  {
   "cell_type": "code",
   "execution_count": 98,
   "id": "4f9eeb74",
   "metadata": {},
   "outputs": [],
   "source": [
    "l.remove_element(10000000)"
   ]
  },
  {
   "cell_type": "code",
   "execution_count": 104,
   "id": "a1222d1e",
   "metadata": {},
   "outputs": [
    {
     "name": "stdout",
     "output_type": "stream",
     "text": [
      "10\n",
      "100\n",
      "1000\n",
      "10000\n"
     ]
    }
   ],
   "source": [
    "pointer = l.head\n",
    "while pointer is not None:\n",
    "    print(pointer.value)\n",
    "    pointer = pointer.next"
   ]
  },
  {
   "cell_type": "code",
   "execution_count": null,
   "id": "c7a95f26",
   "metadata": {},
   "outputs": [],
   "source": []
  },
  {
   "cell_type": "code",
   "execution_count": null,
   "id": "acd2011e",
   "metadata": {},
   "outputs": [],
   "source": []
  }
 ],
 "metadata": {
  "kernelspec": {
   "display_name": "Python 3 (ipykernel)",
   "language": "python",
   "name": "python3"
  },
  "language_info": {
   "codemirror_mode": {
    "name": "ipython",
    "version": 3
   },
   "file_extension": ".py",
   "mimetype": "text/x-python",
   "name": "python",
   "nbconvert_exporter": "python",
   "pygments_lexer": "ipython3",
   "version": "3.9.13"
  }
 },
 "nbformat": 4,
 "nbformat_minor": 5
}
