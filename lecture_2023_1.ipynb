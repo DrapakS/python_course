{
 "cells": [
  {
   "cell_type": "markdown",
   "id": "5ae4cc8e",
   "metadata": {},
   "source": [
    "### Условный оператор"
   ]
  },
  {
   "cell_type": "code",
   "execution_count": 7,
   "id": "926a3950",
   "metadata": {},
   "outputs": [
    {
     "name": "stdout",
     "output_type": "stream",
     "text": [
      "15\n"
     ]
    }
   ],
   "source": [
    "a = 10\n",
    "b = 15\n",
    "\n",
    "if a >= b:\n",
    "    print(a)\n",
    "else:\n",
    "    print(b)"
   ]
  },
  {
   "cell_type": "code",
   "execution_count": 8,
   "id": "d35d194c",
   "metadata": {},
   "outputs": [
    {
     "name": "stdout",
     "output_type": "stream",
     "text": [
      "20\n"
     ]
    }
   ],
   "source": [
    "a = 10\n",
    "b = 15\n",
    "\n",
    "if a >= b:\n",
    "    print(a)\n",
    "elif b > 20:\n",
    "    print(b)\n",
    "else:\n",
    "    print(20)"
   ]
  },
  {
   "cell_type": "code",
   "execution_count": 9,
   "id": "66d1b79e",
   "metadata": {},
   "outputs": [
    {
     "name": "stdout",
     "output_type": "stream",
     "text": [
      "10\n"
     ]
    }
   ],
   "source": [
    "a = 10\n",
    "\n",
    "if 0 <= a <= 15:\n",
    "    print(a)"
   ]
  },
  {
   "cell_type": "code",
   "execution_count": 10,
   "id": "d8c65c71",
   "metadata": {},
   "outputs": [
    {
     "name": "stdout",
     "output_type": "stream",
     "text": [
      "!\n"
     ]
    }
   ],
   "source": [
    "a = 10\n",
    "\n",
    "if 0 <= a <= 5:\n",
    "    print(a)\n",
    "else:\n",
    "    print('!')"
   ]
  },
  {
   "cell_type": "code",
   "execution_count": 11,
   "id": "3769561f",
   "metadata": {},
   "outputs": [
    {
     "name": "stdout",
     "output_type": "stream",
     "text": [
      "15\n"
     ]
    }
   ],
   "source": [
    "a = 10\n",
    "b = 15\n",
    "\n",
    "if a > b:\n",
    "    c = a\n",
    "else:\n",
    "    c = b\n",
    "print(c)"
   ]
  },
  {
   "cell_type": "code",
   "execution_count": 12,
   "id": "215ff704",
   "metadata": {},
   "outputs": [
    {
     "name": "stdout",
     "output_type": "stream",
     "text": [
      "15\n"
     ]
    }
   ],
   "source": [
    "a = 10\n",
    "b = 15\n",
    "\n",
    "c = a if a > b else b\n",
    "print(c)"
   ]
  },
  {
   "cell_type": "markdown",
   "id": "af78d141",
   "metadata": {},
   "source": [
    "### Цикл while"
   ]
  },
  {
   "cell_type": "code",
   "execution_count": 13,
   "id": "8a02a59b",
   "metadata": {},
   "outputs": [
    {
     "name": "stdout",
     "output_type": "stream",
     "text": [
      "3\n"
     ]
    }
   ],
   "source": [
    "a = 0\n",
    "i = 0\n",
    "while i < 3:\n",
    "    a += i # a = a + i\n",
    "    i += 1\n",
    "print(a)"
   ]
  },
  {
   "cell_type": "code",
   "execution_count": 14,
   "id": "e678deb6",
   "metadata": {},
   "outputs": [
    {
     "name": "stdout",
     "output_type": "stream",
     "text": [
      "40\n"
     ]
    }
   ],
   "source": [
    "a = 0\n",
    "i = 0\n",
    "while i < 10:\n",
    "    if i == 5:\n",
    "        i += 1\n",
    "        continue\n",
    "    a += i\n",
    "    i += 1\n",
    "print(a)"
   ]
  },
  {
   "cell_type": "code",
   "execution_count": 15,
   "id": "60880536",
   "metadata": {},
   "outputs": [
    {
     "name": "stdout",
     "output_type": "stream",
     "text": [
      "0\n"
     ]
    }
   ],
   "source": [
    "a = 0\n",
    "i = 0\n",
    "while i < 10:\n",
    "    i += 1\n",
    "    continue\n",
    "    a += i\n",
    "    i += 1\n",
    "print(a)"
   ]
  },
  {
   "cell_type": "code",
   "execution_count": 16,
   "id": "ca0c941d",
   "metadata": {},
   "outputs": [
    {
     "name": "stdout",
     "output_type": "stream",
     "text": [
      "10\n"
     ]
    }
   ],
   "source": [
    "a = 0\n",
    "i = 0\n",
    "while i < 10:\n",
    "    if i == 5:\n",
    "        break\n",
    "    a += i\n",
    "    i += 1\n",
    "print(a)"
   ]
  },
  {
   "cell_type": "code",
   "execution_count": 17,
   "id": "6ce0d19e",
   "metadata": {},
   "outputs": [
    {
     "name": "stdout",
     "output_type": "stream",
     "text": [
      "0\n"
     ]
    }
   ],
   "source": [
    "a = 0\n",
    "i = 0\n",
    "while i < 10:\n",
    "    break\n",
    "    a += i\n",
    "    i += 1\n",
    "print(a)"
   ]
  },
  {
   "cell_type": "markdown",
   "id": "46b081ec",
   "metadata": {},
   "source": [
    "### Цикл for"
   ]
  },
  {
   "cell_type": "code",
   "execution_count": 21,
   "id": "9265c69d",
   "metadata": {},
   "outputs": [
    {
     "name": "stdout",
     "output_type": "stream",
     "text": [
      "0\n",
      "1\n",
      "2\n",
      "3\n",
      "4\n"
     ]
    }
   ],
   "source": [
    "for i in range(0, 5, 1):\n",
    "    print(i)"
   ]
  },
  {
   "cell_type": "code",
   "execution_count": 22,
   "id": "cceb37f7",
   "metadata": {},
   "outputs": [
    {
     "name": "stdout",
     "output_type": "stream",
     "text": [
      "0\n",
      "1\n",
      "2\n",
      "3\n",
      "4\n"
     ]
    }
   ],
   "source": [
    "for i in range(5):\n",
    "    print(i)"
   ]
  },
  {
   "cell_type": "code",
   "execution_count": 23,
   "id": "0ab4681f",
   "metadata": {},
   "outputs": [
    {
     "name": "stdout",
     "output_type": "stream",
     "text": [
      "2\n",
      "3\n",
      "4\n"
     ]
    }
   ],
   "source": [
    "for i in range(2, 5):\n",
    "    print(i)"
   ]
  },
  {
   "cell_type": "code",
   "execution_count": 24,
   "id": "52fb0e98",
   "metadata": {},
   "outputs": [
    {
     "name": "stdout",
     "output_type": "stream",
     "text": [
      "1\n",
      "3\n",
      "5\n"
     ]
    }
   ],
   "source": [
    "for i in range(1, 6, 2):\n",
    "    print(i)"
   ]
  },
  {
   "cell_type": "code",
   "execution_count": 25,
   "id": "4d86d568",
   "metadata": {},
   "outputs": [
    {
     "name": "stdout",
     "output_type": "stream",
     "text": [
      "45\n"
     ]
    }
   ],
   "source": [
    "a = 0\n",
    "for i in range(10):\n",
    "    a += i\n",
    "print(a)"
   ]
  },
  {
   "cell_type": "code",
   "execution_count": 26,
   "id": "1885ed83",
   "metadata": {},
   "outputs": [
    {
     "name": "stdout",
     "output_type": "stream",
     "text": [
      "CPU times: user 8.19 s, sys: 28.2 ms, total: 8.22 s\n",
      "Wall time: 8.26 s\n"
     ]
    }
   ],
   "source": [
    "%%time\n",
    "a = 0\n",
    "i = 0\n",
    "while i < 100000000:\n",
    "    a += i\n",
    "    i += 1"
   ]
  },
  {
   "cell_type": "code",
   "execution_count": 27,
   "id": "db797a18",
   "metadata": {
    "scrolled": false
   },
   "outputs": [
    {
     "name": "stdout",
     "output_type": "stream",
     "text": [
      "CPU times: user 5.14 s, sys: 15.1 ms, total: 5.16 s\n",
      "Wall time: 5.17 s\n"
     ]
    }
   ],
   "source": [
    "%%time\n",
    "a = 0\n",
    "for i in range(100000000):\n",
    "    a += i"
   ]
  },
  {
   "cell_type": "markdown",
   "id": "6d054d4b",
   "metadata": {},
   "source": [
    "### Строки"
   ]
  },
  {
   "cell_type": "markdown",
   "id": "3d368c34",
   "metadata": {},
   "source": [
    "#### https://pythonworld.ru/tipy-dannyx-v-python/stroki-funkcii-i-metody-strok.html"
   ]
  },
  {
   "cell_type": "code",
   "execution_count": 32,
   "id": "0c83234e",
   "metadata": {},
   "outputs": [
    {
     "name": "stdout",
     "output_type": "stream",
     "text": [
      "string\n"
     ]
    }
   ],
   "source": [
    "# Инициализация строк\n",
    "s_1 = \"string\"\n",
    "s_1 = 'string'\n",
    "s_1 = \"\"\"string\"\"\"\n",
    "print(s_1)"
   ]
  },
  {
   "cell_type": "code",
   "execution_count": 33,
   "id": "277e0be4",
   "metadata": {},
   "outputs": [
    {
     "data": {
      "text/plain": [
       "'my string'"
      ]
     },
     "execution_count": 33,
     "metadata": {},
     "output_type": "execute_result"
    }
   ],
   "source": [
    "# Сложение строк\n",
    "s_2 = 'my '\n",
    "s = s_2 + s_1\n",
    "s"
   ]
  },
  {
   "cell_type": "code",
   "execution_count": 35,
   "id": "d291f82c",
   "metadata": {},
   "outputs": [
    {
     "name": "stdout",
     "output_type": "stream",
     "text": [
      "\n"
     ]
    }
   ],
   "source": [
    "# Пустая строка \n",
    "s = ''\n",
    "print(s)"
   ]
  },
  {
   "cell_type": "markdown",
   "id": "6592c999",
   "metadata": {},
   "source": [
    " Для работы со строками можно использовать одинарные ' двойные \" и тройные ковычки \"\"\""
   ]
  },
  {
   "cell_type": "code",
   "execution_count": 36,
   "id": "6c642e56",
   "metadata": {},
   "outputs": [
    {
     "name": "stdout",
     "output_type": "stream",
     "text": [
      "'qq'\n"
     ]
    }
   ],
   "source": [
    "s = \"'qq'\"\n",
    "print(s)"
   ]
  },
  {
   "cell_type": "code",
   "execution_count": 37,
   "id": "6efc9eb8",
   "metadata": {},
   "outputs": [
    {
     "ename": "SyntaxError",
     "evalue": "invalid syntax (3899268049.py, line 1)",
     "output_type": "error",
     "traceback": [
      "\u001b[0;36m  Cell \u001b[0;32mIn[37], line 1\u001b[0;36m\u001b[0m\n\u001b[0;31m    s = \"\"qq\"\"\u001b[0m\n\u001b[0m          ^\u001b[0m\n\u001b[0;31mSyntaxError\u001b[0m\u001b[0;31m:\u001b[0m invalid syntax\n"
     ]
    }
   ],
   "source": [
    "s = \"\"qq\"\"\n",
    "print(s)"
   ]
  },
  {
   "cell_type": "markdown",
   "id": "f1c7a488",
   "metadata": {},
   "source": [
    "Тройные ковычки позволяют переносить строку"
   ]
  },
  {
   "cell_type": "code",
   "execution_count": 38,
   "id": "c619e867",
   "metadata": {},
   "outputs": [
    {
     "name": "stdout",
     "output_type": "stream",
     "text": [
      "\n",
      "\n",
      "asd\n",
      "\n",
      "123\n",
      "\n"
     ]
    }
   ],
   "source": [
    "s = \"\"\"\n",
    "\n",
    "asd\n",
    "\n",
    "123\n",
    "\"\"\"\n",
    "print(s)"
   ]
  },
  {
   "cell_type": "markdown",
   "id": "566c13bb",
   "metadata": {},
   "source": [
    "Дублирование строки"
   ]
  },
  {
   "cell_type": "code",
   "execution_count": 39,
   "id": "85c22ffd",
   "metadata": {},
   "outputs": [
    {
     "data": {
      "text/plain": [
       "'stringstringstring'"
      ]
     },
     "execution_count": 39,
     "metadata": {},
     "output_type": "execute_result"
    }
   ],
   "source": [
    "s = \"string\"\n",
    "s * 3"
   ]
  },
  {
   "cell_type": "markdown",
   "id": "6eb4a540",
   "metadata": {},
   "source": [
    "Длина строки"
   ]
  },
  {
   "cell_type": "code",
   "execution_count": 40,
   "id": "69f04b63",
   "metadata": {},
   "outputs": [
    {
     "data": {
      "text/plain": [
       "6"
      ]
     },
     "execution_count": 40,
     "metadata": {},
     "output_type": "execute_result"
    }
   ],
   "source": [
    "len(s)"
   ]
  },
  {
   "cell_type": "code",
   "execution_count": 41,
   "id": "373af7f2",
   "metadata": {},
   "outputs": [
    {
     "data": {
      "text/plain": [
       "5"
      ]
     },
     "execution_count": 41,
     "metadata": {},
     "output_type": "execute_result"
    }
   ],
   "source": [
    "len(\"123qe\")"
   ]
  },
  {
   "cell_type": "markdown",
   "id": "5c8be036",
   "metadata": {},
   "source": [
    "Доступ по индексу"
   ]
  },
  {
   "cell_type": "code",
   "execution_count": 42,
   "id": "0b5936b4",
   "metadata": {},
   "outputs": [
    {
     "data": {
      "text/plain": [
       "'string'"
      ]
     },
     "execution_count": 42,
     "metadata": {},
     "output_type": "execute_result"
    }
   ],
   "source": [
    "s"
   ]
  },
  {
   "cell_type": "code",
   "execution_count": 43,
   "id": "cd151a75",
   "metadata": {},
   "outputs": [
    {
     "data": {
      "text/plain": [
       "'s'"
      ]
     },
     "execution_count": 43,
     "metadata": {},
     "output_type": "execute_result"
    }
   ],
   "source": [
    "s[0]"
   ]
  },
  {
   "cell_type": "markdown",
   "id": "59ec86fc",
   "metadata": {},
   "source": [
    "Чтобы получить доступ к i-му элементу с конца используем отрцательные индексы "
   ]
  },
  {
   "cell_type": "code",
   "execution_count": 49,
   "id": "c16b9639",
   "metadata": {},
   "outputs": [
    {
     "data": {
      "text/plain": [
       "'g'"
      ]
     },
     "execution_count": 49,
     "metadata": {},
     "output_type": "execute_result"
    }
   ],
   "source": [
    "s[-1]"
   ]
  },
  {
   "cell_type": "markdown",
   "id": "5e83dc55",
   "metadata": {},
   "source": [
    "#### Слайсы (slice)"
   ]
  },
  {
   "cell_type": "code",
   "execution_count": 50,
   "id": "2473a0f5",
   "metadata": {},
   "outputs": [
    {
     "data": {
      "text/plain": [
       "'str'"
      ]
     },
     "execution_count": 50,
     "metadata": {},
     "output_type": "execute_result"
    }
   ],
   "source": [
    "s[:3]"
   ]
  },
  {
   "cell_type": "code",
   "execution_count": 51,
   "id": "4d2003f3",
   "metadata": {},
   "outputs": [
    {
     "data": {
      "text/plain": [
       "'ing'"
      ]
     },
     "execution_count": 51,
     "metadata": {},
     "output_type": "execute_result"
    }
   ],
   "source": [
    "s[3:]"
   ]
  },
  {
   "cell_type": "code",
   "execution_count": 52,
   "id": "2a589824",
   "metadata": {},
   "outputs": [
    {
     "data": {
      "text/plain": [
       "'ri'"
      ]
     },
     "execution_count": 52,
     "metadata": {},
     "output_type": "execute_result"
    }
   ],
   "source": [
    "s[2:4]"
   ]
  },
  {
   "cell_type": "code",
   "execution_count": 55,
   "id": "8c5154ed",
   "metadata": {},
   "outputs": [
    {
     "data": {
      "text/plain": [
       "'trin'"
      ]
     },
     "execution_count": 55,
     "metadata": {},
     "output_type": "execute_result"
    }
   ],
   "source": [
    "s[1:-1]"
   ]
  },
  {
   "cell_type": "markdown",
   "id": "ff6aeab3",
   "metadata": {},
   "source": [
    "Получить каждый второй элемент строки"
   ]
  },
  {
   "cell_type": "code",
   "execution_count": 58,
   "id": "fba0515d",
   "metadata": {},
   "outputs": [
    {
     "data": {
      "text/plain": [
       "'srn'"
      ]
     },
     "execution_count": 58,
     "metadata": {},
     "output_type": "execute_result"
    }
   ],
   "source": [
    "s[0:-1:2]"
   ]
  },
  {
   "cell_type": "markdown",
   "id": "bf2ba88f",
   "metadata": {},
   "source": [
    "Строка с первого элемента до 4го(не включительно) с шагом 2"
   ]
  },
  {
   "cell_type": "code",
   "execution_count": 65,
   "id": "d99197b1",
   "metadata": {},
   "outputs": [
    {
     "data": {
      "text/plain": [
       "'ti'"
      ]
     },
     "execution_count": 65,
     "metadata": {},
     "output_type": "execute_result"
    }
   ],
   "source": [
    "s[1:4:2]"
   ]
  },
  {
   "cell_type": "markdown",
   "id": "f4ad04ff",
   "metadata": {},
   "source": [
    "Строка с последнего элемента до 1 не включительно, с шагом 1 (в обратном порядке)"
   ]
  },
  {
   "cell_type": "code",
   "execution_count": 66,
   "id": "b7750ae0",
   "metadata": {},
   "outputs": [
    {
     "data": {
      "text/plain": [
       "'gnir'"
      ]
     },
     "execution_count": 66,
     "metadata": {},
     "output_type": "execute_result"
    }
   ],
   "source": [
    "s[-1:1:-1]"
   ]
  },
  {
   "cell_type": "markdown",
   "id": "13262cec",
   "metadata": {},
   "source": [
    "Строка в обратном порядке"
   ]
  },
  {
   "cell_type": "code",
   "execution_count": 67,
   "id": "da34b062",
   "metadata": {},
   "outputs": [
    {
     "data": {
      "text/plain": [
       "'gnirts'"
      ]
     },
     "execution_count": 67,
     "metadata": {},
     "output_type": "execute_result"
    }
   ],
   "source": [
    "s[::-1]"
   ]
  },
  {
   "cell_type": "markdown",
   "id": "66c914eb",
   "metadata": {},
   "source": [
    "\\n -- перевод строки"
   ]
  },
  {
   "cell_type": "code",
   "execution_count": 68,
   "id": "8e7c255f",
   "metadata": {},
   "outputs": [
    {
     "name": "stdout",
     "output_type": "stream",
     "text": [
      "abc \n",
      "cde\n"
     ]
    }
   ],
   "source": [
    "a = \"abc \\ncde\"\n",
    "print(a)"
   ]
  },
  {
   "cell_type": "markdown",
   "id": "09d153da",
   "metadata": {},
   "source": [
    "Разделение строки по подстроке ('.')"
   ]
  },
  {
   "cell_type": "code",
   "execution_count": 69,
   "id": "f1ec496e",
   "metadata": {},
   "outputs": [
    {
     "data": {
      "text/plain": [
       "['ab', 'cd', 'ef']"
      ]
     },
     "execution_count": 69,
     "metadata": {},
     "output_type": "execute_result"
    }
   ],
   "source": [
    "a = \"ab.cd.ef\"\n",
    "a.split('.')"
   ]
  },
  {
   "cell_type": "code",
   "execution_count": 70,
   "id": "c2299662",
   "metadata": {},
   "outputs": [
    {
     "data": {
      "text/plain": [
       "['ab.cd.ef']"
      ]
     },
     "execution_count": 70,
     "metadata": {},
     "output_type": "execute_result"
    }
   ],
   "source": [
    "a = \"ab.cd.ef\"\n",
    "a.split(':')"
   ]
  },
  {
   "cell_type": "code",
   "execution_count": 71,
   "id": "07c4c104",
   "metadata": {},
   "outputs": [
    {
     "data": {
      "text/plain": [
       "'cd'"
      ]
     },
     "execution_count": 71,
     "metadata": {},
     "output_type": "execute_result"
    }
   ],
   "source": [
    "a.split('.')[1]"
   ]
  },
  {
   "cell_type": "markdown",
   "id": "717f2985",
   "metadata": {},
   "source": [
    "Поиск первого вхождения подстроки в строку"
   ]
  },
  {
   "cell_type": "code",
   "execution_count": 72,
   "id": "b9d3ad12",
   "metadata": {},
   "outputs": [
    {
     "data": {
      "text/plain": [
       "2"
      ]
     },
     "execution_count": 72,
     "metadata": {},
     "output_type": "execute_result"
    }
   ],
   "source": [
    "a.find('.')"
   ]
  },
  {
   "cell_type": "markdown",
   "id": "caa13f7c",
   "metadata": {},
   "source": [
    "Поиск последнего вхождения подстроки в строку"
   ]
  },
  {
   "cell_type": "code",
   "execution_count": 73,
   "id": "13b7d367",
   "metadata": {},
   "outputs": [
    {
     "data": {
      "text/plain": [
       "5"
      ]
     },
     "execution_count": 73,
     "metadata": {},
     "output_type": "execute_result"
    }
   ],
   "source": [
    "a.rfind('.')"
   ]
  },
  {
   "cell_type": "markdown",
   "id": "c068ef1e",
   "metadata": {},
   "source": [
    "Замена подстроки"
   ]
  },
  {
   "cell_type": "code",
   "execution_count": 74,
   "id": "ffb67de5",
   "metadata": {},
   "outputs": [
    {
     "data": {
      "text/plain": [
       "'ab:cd:ef'"
      ]
     },
     "execution_count": 74,
     "metadata": {},
     "output_type": "execute_result"
    }
   ],
   "source": [
    "a = \"ab..cd..ef\"\n",
    "a.replace('..', ':')"
   ]
  },
  {
   "cell_type": "markdown",
   "id": "6ff8b04d",
   "metadata": {},
   "source": [
    "Сделать все буквенные символы заглавными"
   ]
  },
  {
   "cell_type": "code",
   "execution_count": 75,
   "id": "a7c31335",
   "metadata": {},
   "outputs": [
    {
     "data": {
      "text/plain": [
       "'AB..CD..EF'"
      ]
     },
     "execution_count": 75,
     "metadata": {},
     "output_type": "execute_result"
    }
   ],
   "source": [
    "a.upper()"
   ]
  },
  {
   "cell_type": "markdown",
   "id": "dcad7fd9",
   "metadata": {},
   "source": [
    "Сделать все буквенные символы строчными"
   ]
  },
  {
   "cell_type": "code",
   "execution_count": 82,
   "id": "24c10b3f",
   "metadata": {},
   "outputs": [],
   "source": [
    "a = '!aAaAAA2'\n",
    "#a = a.lower()\n",
    "#print(a)\n",
    "b = a.lower()"
   ]
  },
  {
   "cell_type": "code",
   "execution_count": 83,
   "id": "55bb073c",
   "metadata": {},
   "outputs": [
    {
     "data": {
      "text/plain": [
       "'!aaaaaa2'"
      ]
     },
     "execution_count": 83,
     "metadata": {},
     "output_type": "execute_result"
    }
   ],
   "source": [
    "b"
   ]
  },
  {
   "cell_type": "markdown",
   "id": "be0b1c83",
   "metadata": {},
   "source": [
    "ВАЖНО. Это новая строка. Старая строка осталось такой же"
   ]
  },
  {
   "cell_type": "code",
   "execution_count": 84,
   "id": "30a115e0",
   "metadata": {},
   "outputs": [
    {
     "data": {
      "text/plain": [
       "'!aAaAAA2'"
      ]
     },
     "execution_count": 84,
     "metadata": {},
     "output_type": "execute_result"
    }
   ],
   "source": [
    "a"
   ]
  },
  {
   "cell_type": "markdown",
   "id": "68ab856f",
   "metadata": {},
   "source": [
    "По строкам можно итерироваться!"
   ]
  },
  {
   "cell_type": "code",
   "execution_count": 85,
   "id": "c8f68a82",
   "metadata": {},
   "outputs": [
    {
     "name": "stdout",
     "output_type": "stream",
     "text": [
      "A\n",
      "a\n",
      "A\n",
      "a\n",
      "a\n",
      "a\n"
     ]
    }
   ],
   "source": [
    "a = 'aAaAAA'\n",
    "for c in a:\n",
    "    #print(c)\n",
    "    if c == 'a':\n",
    "        print(c.upper())\n",
    "    else:\n",
    "        print(c.lower())\n"
   ]
  },
  {
   "cell_type": "markdown",
   "id": "33d04ef7",
   "metadata": {},
   "source": [
    "Отдельным элементам строки нельзя присвоить значение"
   ]
  },
  {
   "cell_type": "code",
   "execution_count": 86,
   "id": "c97a3e98",
   "metadata": {},
   "outputs": [
    {
     "ename": "TypeError",
     "evalue": "'str' object does not support item assignment",
     "output_type": "error",
     "traceback": [
      "\u001b[0;31m---------------------------------------------------------------------------\u001b[0m",
      "\u001b[0;31mTypeError\u001b[0m                                 Traceback (most recent call last)",
      "Cell \u001b[0;32mIn[86], line 1\u001b[0m\n\u001b[0;32m----> 1\u001b[0m \u001b[43ma\u001b[49m\u001b[43m[\u001b[49m\u001b[38;5;241;43m2\u001b[39;49m\u001b[43m]\u001b[49m \u001b[38;5;241m=\u001b[39m \u001b[38;5;124m'\u001b[39m\u001b[38;5;124m1\u001b[39m\u001b[38;5;124m'\u001b[39m\n",
      "\u001b[0;31mTypeError\u001b[0m: 'str' object does not support item assignment"
     ]
    }
   ],
   "source": [
    "a[2] = '1'"
   ]
  },
  {
   "cell_type": "markdown",
   "id": "144a6ce1",
   "metadata": {},
   "source": [
    "Если значение все-таки нужно \"присвоить\", то заменять нужно всю строку"
   ]
  },
  {
   "cell_type": "markdown",
   "id": "10aa4adb",
   "metadata": {},
   "source": [
    "### Списки (list)"
   ]
  },
  {
   "cell_type": "markdown",
   "id": "665563ac",
   "metadata": {},
   "source": [
    "Списки в Python - упорядоченные изменяемые коллекции объектов произвольных типов"
   ]
  },
  {
   "cell_type": "markdown",
   "id": "e04cc0d7",
   "metadata": {},
   "source": [
    "#### https://pythonworld.ru/tipy-dannyx-v-python/spiski-list-funkcii-i-metody-spiskov.html"
   ]
  },
  {
   "cell_type": "markdown",
   "id": "5e436ec3",
   "metadata": {},
   "source": [
    "Иницииализация списка"
   ]
  },
  {
   "cell_type": "code",
   "execution_count": 88,
   "id": "9078e12e",
   "metadata": {},
   "outputs": [
    {
     "name": "stdout",
     "output_type": "stream",
     "text": [
      "[0, 1, 2, 3, 4.1, 'a']\n"
     ]
    }
   ],
   "source": [
    "l = [0, 1, 2, 3, 4.1, 'a']\n",
    "print(l)"
   ]
  },
  {
   "cell_type": "markdown",
   "id": "1de1a3dc",
   "metadata": {},
   "source": [
    "Инициализация списка через range"
   ]
  },
  {
   "cell_type": "code",
   "execution_count": 89,
   "id": "3ff1cdca",
   "metadata": {},
   "outputs": [
    {
     "name": "stdout",
     "output_type": "stream",
     "text": [
      "[0, 1, 2, 3, 4]\n"
     ]
    }
   ],
   "source": [
    "l = list(range(5))\n",
    "print(l)"
   ]
  },
  {
   "cell_type": "markdown",
   "id": "5162d0ab",
   "metadata": {},
   "source": [
    "Что такое range?\n",
    "\n",
    "https://treyhunner.com/2018/02/python-range-is-not-an-iterator/"
   ]
  },
  {
   "cell_type": "markdown",
   "id": "64a972ff",
   "metadata": {},
   "source": [
    "Инициализация списка произвольным итерируемым объектом (строкой)"
   ]
  },
  {
   "cell_type": "code",
   "execution_count": 90,
   "id": "5b86f552",
   "metadata": {},
   "outputs": [
    {
     "name": "stdout",
     "output_type": "stream",
     "text": [
      "['a', 'b', 'c', 'd']\n"
     ]
    }
   ],
   "source": [
    "l = list('abcd')\n",
    "print(l)"
   ]
  },
  {
   "cell_type": "markdown",
   "id": "0989bac8",
   "metadata": {},
   "source": [
    "Пустой список"
   ]
  },
  {
   "cell_type": "code",
   "execution_count": 91,
   "id": "d2cbad12",
   "metadata": {},
   "outputs": [
    {
     "name": "stdout",
     "output_type": "stream",
     "text": [
      "[]\n"
     ]
    }
   ],
   "source": [
    "l = []\n",
    "print(l)"
   ]
  },
  {
   "cell_type": "markdown",
   "id": "8a49b061",
   "metadata": {},
   "source": [
    "Список может содержать элементы разных типов"
   ]
  },
  {
   "cell_type": "code",
   "execution_count": 92,
   "id": "d5acfae0",
   "metadata": {},
   "outputs": [
    {
     "name": "stdout",
     "output_type": "stream",
     "text": [
      "['a', 123, 'abc', [1, 2], 1.1]\n"
     ]
    }
   ],
   "source": [
    "l = ['a', 123, 'abc', [1, 2], 1.1]\n",
    "print(l)"
   ]
  },
  {
   "cell_type": "markdown",
   "id": "c59eb18b",
   "metadata": {},
   "source": [
    "Инициализация через list comprehension"
   ]
  },
  {
   "cell_type": "code",
   "execution_count": 93,
   "id": "e2eb6dc4",
   "metadata": {},
   "outputs": [
    {
     "name": "stdout",
     "output_type": "stream",
     "text": [
      "[0, 1, 2, 3, 4, 5, 6, 7, 8, 9]\n"
     ]
    }
   ],
   "source": [
    "#l = list(range(10))\n",
    "l = [i for i in range(10)]\n",
    "print(l)"
   ]
  },
  {
   "cell_type": "markdown",
   "id": "bf36b6d7",
   "metadata": {},
   "source": [
    "Добавим в list comprehension условие\n",
    "\n",
    "В данном случае только четные элементы попадут в список"
   ]
  },
  {
   "cell_type": "code",
   "execution_count": 94,
   "id": "47068702",
   "metadata": {},
   "outputs": [
    {
     "name": "stdout",
     "output_type": "stream",
     "text": [
      "[0, 2, 4, 6, 8]\n"
     ]
    }
   ],
   "source": [
    "l = [i for i in range(10) if i % 2 == 0]\n",
    "print(l)"
   ]
  },
  {
   "cell_type": "markdown",
   "id": "a86526d4",
   "metadata": {},
   "source": [
    "Усложним list comprehension еще немного \n",
    "\n",
    "Теперь мы генерируем только квадраты четных чисел\n",
    "\n",
    "Таким образом мы можем не просто использовать элементы итерируемого объекта, но можем сразу производить операции над ними"
   ]
  },
  {
   "cell_type": "code",
   "execution_count": 95,
   "id": "06ab674e",
   "metadata": {},
   "outputs": [
    {
     "name": "stdout",
     "output_type": "stream",
     "text": [
      "[0, 4, 16, 36, 64]\n"
     ]
    }
   ],
   "source": [
    "l = [i ** 2 for i in range(10) if i % 2 == 0]\n",
    "print(l)"
   ]
  },
  {
   "cell_type": "markdown",
   "id": "f30b4a66",
   "metadata": {},
   "source": [
    "Усложним еще немного. Добавим условие на значение объекта\n",
    "\n",
    "Если нам нужно по-разному преобразовывать значения исходной последовательности, то мы можем использовать структуру if-else при генерации\n",
    "\n",
    "Например тут для всех значений < 4 берется значение исходной последовательности, а для остальных берется квадрат"
   ]
  },
  {
   "cell_type": "code",
   "execution_count": 96,
   "id": "da9ae709",
   "metadata": {},
   "outputs": [
    {
     "name": "stdout",
     "output_type": "stream",
     "text": [
      "[0, 2, 16, 36, 64]\n"
     ]
    }
   ],
   "source": [
    "l = [i if i < 4 else i * i for i in range(10) if i % 2 == 0]\n",
    "print(l)"
   ]
  },
  {
   "cell_type": "markdown",
   "id": "39f6322e",
   "metadata": {},
   "source": [
    "Умножение списка работает так же как умножение строк. Список повторяется столько раз на сколько он был умножен"
   ]
  },
  {
   "cell_type": "code",
   "execution_count": 97,
   "id": "8bb74378",
   "metadata": {},
   "outputs": [
    {
     "name": "stdout",
     "output_type": "stream",
     "text": [
      "[0, 2, 16, 36, 64, 0, 2, 16, 36, 64]\n"
     ]
    }
   ],
   "source": [
    "l = l * 2\n",
    "print(l)"
   ]
  },
  {
   "cell_type": "markdown",
   "id": "0a1c649c",
   "metadata": {},
   "source": [
    "Слайсы в списках работают так же как слайсы в строках"
   ]
  },
  {
   "cell_type": "markdown",
   "id": "0ce07f87",
   "metadata": {},
   "source": [
    "Возьмем элемнты с первого включительно по пятый не включительно"
   ]
  },
  {
   "cell_type": "code",
   "execution_count": 98,
   "id": "7c683baa",
   "metadata": {},
   "outputs": [
    {
     "data": {
      "text/plain": [
       "[2, 16, 36, 64]"
      ]
     },
     "execution_count": 98,
     "metadata": {},
     "output_type": "execute_result"
    }
   ],
   "source": [
    "l[1:5]"
   ]
  },
  {
   "cell_type": "markdown",
   "id": "8bc04b7a",
   "metadata": {},
   "source": [
    "Следует думать об этом так. Взять каждый элемент списка, причем смотреть на него в обратном порядке (знак \"-\")\n",
    "Инвертирование списка"
   ]
  },
  {
   "cell_type": "code",
   "execution_count": 99,
   "id": "47cfc725",
   "metadata": {},
   "outputs": [
    {
     "data": {
      "text/plain": [
       "[64, 36, 16, 2, 0, 64, 36, 16, 2, 0]"
      ]
     },
     "execution_count": 99,
     "metadata": {},
     "output_type": "execute_result"
    }
   ],
   "source": [
    "l[::-1]"
   ]
  },
  {
   "cell_type": "markdown",
   "id": "577e9196",
   "metadata": {},
   "source": [
    "Взять каждый второй элемент списка (знак положительный, значит порядок прямой)"
   ]
  },
  {
   "cell_type": "code",
   "execution_count": 100,
   "id": "c28bd1db",
   "metadata": {},
   "outputs": [
    {
     "data": {
      "text/plain": [
       "[0, 16, 64, 2, 36]"
      ]
     },
     "execution_count": 100,
     "metadata": {},
     "output_type": "execute_result"
    }
   ],
   "source": [
    "l[::2]"
   ]
  },
  {
   "cell_type": "markdown",
   "id": "76be97e3",
   "metadata": {},
   "source": [
    "Взять каждый второй элемент начиная с первого до 6го не включительно"
   ]
  },
  {
   "cell_type": "code",
   "execution_count": 101,
   "id": "2a38be1a",
   "metadata": {},
   "outputs": [
    {
     "data": {
      "text/plain": [
       "[2, 36, 0]"
      ]
     },
     "execution_count": 101,
     "metadata": {},
     "output_type": "execute_result"
    }
   ],
   "source": [
    "l[1:6:2]"
   ]
  },
  {
   "cell_type": "markdown",
   "id": "3f677358",
   "metadata": {},
   "source": [
    "Добавления элемента в список. Метод append"
   ]
  },
  {
   "cell_type": "code",
   "execution_count": 102,
   "id": "d4d169f0",
   "metadata": {},
   "outputs": [
    {
     "name": "stdout",
     "output_type": "stream",
     "text": [
      "[0, 1, 2, 3, 4, 5, 6, 7, 8, 9]\n",
      "[0, 1, 2, 3, 4, 5, 6, 7, 8, 9, 100]\n"
     ]
    }
   ],
   "source": [
    "l = list(range(10))\n",
    "print(l)\n",
    "l.append(100)\n",
    "print(l)"
   ]
  },
  {
   "cell_type": "markdown",
   "id": "e3bcfd4d",
   "metadata": {},
   "source": [
    "Сложение списков (аналогично строкам)"
   ]
  },
  {
   "cell_type": "code",
   "execution_count": 103,
   "id": "01a841f3",
   "metadata": {},
   "outputs": [
    {
     "name": "stdout",
     "output_type": "stream",
     "text": [
      "[0, 1, 2, 3, 4, 5, 6, 7, 8, 9, 100, 1, 2, 200]\n"
     ]
    }
   ],
   "source": [
    "l = l + [1,2,200]\n",
    "print(l)"
   ]
  },
  {
   "cell_type": "markdown",
   "id": "5a40558b",
   "metadata": {},
   "source": [
    "Сортировка списка\n",
    "Переприсваивать ничего не нужно. Список становится отсортированным"
   ]
  },
  {
   "cell_type": "code",
   "execution_count": 104,
   "id": "00243525",
   "metadata": {},
   "outputs": [
    {
     "name": "stdout",
     "output_type": "stream",
     "text": [
      "[0, 1, 1, 2, 2, 3, 4, 5, 6, 7, 8, 9, 100, 200]\n"
     ]
    }
   ],
   "source": [
    "l.sort()\n",
    "print(l)"
   ]
  },
  {
   "cell_type": "code",
   "execution_count": 105,
   "id": "4fae47d5",
   "metadata": {},
   "outputs": [
    {
     "name": "stdout",
     "output_type": "stream",
     "text": [
      "None\n"
     ]
    }
   ],
   "source": [
    "list_2 = l.sort()\n",
    "print(list_2)"
   ]
  },
  {
   "cell_type": "markdown",
   "id": "c0360cd1",
   "metadata": {},
   "source": [
    "Метод count считает сколько раз встретился элемент в списке"
   ]
  },
  {
   "cell_type": "code",
   "execution_count": 106,
   "id": "98f7a03c",
   "metadata": {},
   "outputs": [
    {
     "data": {
      "text/plain": [
       "2"
      ]
     },
     "execution_count": 106,
     "metadata": {},
     "output_type": "execute_result"
    }
   ],
   "source": [
    "l.count(2)"
   ]
  },
  {
   "cell_type": "markdown",
   "id": "16c920e5",
   "metadata": {},
   "source": [
    "remove удаляет первое вхождение элемента в список"
   ]
  },
  {
   "cell_type": "code",
   "execution_count": 107,
   "id": "1582a3c9",
   "metadata": {},
   "outputs": [
    {
     "data": {
      "text/plain": [
       "[0, 1, 1, 2, 2, 3, 4, 5, 6, 7, 8, 100, 200]"
      ]
     },
     "execution_count": 107,
     "metadata": {},
     "output_type": "execute_result"
    }
   ],
   "source": [
    "l.remove(9)\n",
    "l"
   ]
  },
  {
   "cell_type": "markdown",
   "id": "75080d5e",
   "metadata": {},
   "source": [
    "insert(index, object) на место с индексом index вставляет объетк object"
   ]
  },
  {
   "cell_type": "code",
   "execution_count": 108,
   "id": "3f1bb14f",
   "metadata": {},
   "outputs": [
    {
     "data": {
      "text/plain": [
       "[0, 1, 1, 2, 2, 5555, 3, 4, 5, 6, 7, 8, 100, 200]"
      ]
     },
     "execution_count": 108,
     "metadata": {},
     "output_type": "execute_result"
    }
   ],
   "source": [
    "l.insert(5, 5555)\n",
    "l"
   ]
  },
  {
   "cell_type": "markdown",
   "id": "0fb29595",
   "metadata": {},
   "source": [
    "По спискам можно итерироваться"
   ]
  },
  {
   "cell_type": "code",
   "execution_count": 109,
   "id": "16c8742b",
   "metadata": {},
   "outputs": [],
   "source": [
    "l = list(range(10))"
   ]
  },
  {
   "cell_type": "code",
   "execution_count": 110,
   "id": "50bf1843",
   "metadata": {},
   "outputs": [
    {
     "data": {
      "text/plain": [
       "[0, 1, 2, 3, 4, 5, 6, 7, 8, 9]"
      ]
     },
     "execution_count": 110,
     "metadata": {},
     "output_type": "execute_result"
    }
   ],
   "source": [
    "l"
   ]
  },
  {
   "cell_type": "code",
   "execution_count": 112,
   "id": "318dbfac",
   "metadata": {},
   "outputs": [
    {
     "name": "stdout",
     "output_type": "stream",
     "text": [
      "0\n",
      "1\n",
      "2\n",
      "3\n",
      "4\n"
     ]
    }
   ],
   "source": [
    "for i in range(len(l)):\n",
    "    if l[i] < 5:\n",
    "        print(l[i])"
   ]
  },
  {
   "cell_type": "code",
   "execution_count": 113,
   "id": "d6dfc046",
   "metadata": {},
   "outputs": [
    {
     "name": "stdout",
     "output_type": "stream",
     "text": [
      "0\n",
      "1\n",
      "2\n",
      "3\n",
      "4\n"
     ]
    }
   ],
   "source": [
    "for x in l:\n",
    "    if x < 5:\n",
    "        print(x)"
   ]
  },
  {
   "cell_type": "code",
   "execution_count": 114,
   "id": "c898d97e",
   "metadata": {},
   "outputs": [
    {
     "data": {
      "text/plain": [
       "[1, 2, 4, 8, 16, 32, 64, 128, 256, 512]"
      ]
     },
     "execution_count": 114,
     "metadata": {},
     "output_type": "execute_result"
    }
   ],
   "source": [
    "l2 = [2 ** x for x in l]\n",
    "l2"
   ]
  },
  {
   "cell_type": "code",
   "execution_count": 115,
   "id": "74b6c5af",
   "metadata": {},
   "outputs": [
    {
     "name": "stdout",
     "output_type": "stream",
     "text": [
      "1\n",
      "2\n"
     ]
    }
   ],
   "source": [
    "for x in l2:\n",
    "    if x < 4:\n",
    "        print(x)"
   ]
  },
  {
   "cell_type": "code",
   "execution_count": 116,
   "id": "70838985",
   "metadata": {},
   "outputs": [
    {
     "name": "stdout",
     "output_type": "stream",
     "text": [
      "0 1\n",
      "1 2\n",
      "2 4\n",
      "3 8\n",
      "4 16\n",
      "5 32\n",
      "6 64\n",
      "7 128\n",
      "8 256\n",
      "9 512\n"
     ]
    }
   ],
   "source": [
    "for i, x in enumerate(l2):\n",
    "    print(i, x)"
   ]
  },
  {
   "cell_type": "markdown",
   "id": "f8d46e95",
   "metadata": {},
   "source": [
    "Если у вас есть два списка с элементами x_i, y_i, то вы можете проитерироваться по таким парам с помощью генератора zip\n",
    "Он принимает на вход произвольное число списков и дает возможность итерироваться по ним одновременно "
   ]
  },
  {
   "cell_type": "code",
   "execution_count": 117,
   "id": "4c593a21",
   "metadata": {},
   "outputs": [
    {
     "data": {
      "text/plain": [
       "[0, 1, 2, 3, 4, 5, 6, 7, 8, 9]"
      ]
     },
     "execution_count": 117,
     "metadata": {},
     "output_type": "execute_result"
    }
   ],
   "source": [
    "l"
   ]
  },
  {
   "cell_type": "code",
   "execution_count": 123,
   "id": "af7a18d4",
   "metadata": {},
   "outputs": [
    {
     "data": {
      "text/plain": [
       "[1, 2, 4, 8, 16, 32, 64, 128, 256, 512]"
      ]
     },
     "execution_count": 123,
     "metadata": {},
     "output_type": "execute_result"
    }
   ],
   "source": [
    "l2"
   ]
  },
  {
   "cell_type": "code",
   "execution_count": null,
   "id": "70b65584",
   "metadata": {},
   "outputs": [],
   "source": [
    "((1 - 0)**2 + (2 - 1)**2 + ... + (512 - 9)**2)/10"
   ]
  },
  {
   "cell_type": "code",
   "execution_count": 121,
   "id": "a4ae784c",
   "metadata": {},
   "outputs": [],
   "source": [
    "#(sum(l2) - sum(l))/len(l)"
   ]
  },
  {
   "cell_type": "code",
   "execution_count": 124,
   "id": "c2643783",
   "metadata": {},
   "outputs": [
    {
     "data": {
      "text/plain": [
       "33342.2"
      ]
     },
     "execution_count": 124,
     "metadata": {},
     "output_type": "execute_result"
    }
   ],
   "source": [
    "s = 0\n",
    "for i in range(len(l2)):\n",
    "    s += (l[i] - l2[i]) ** 2\n",
    "s / len(l2)"
   ]
  },
  {
   "cell_type": "code",
   "execution_count": 126,
   "id": "9291d067",
   "metadata": {},
   "outputs": [
    {
     "data": {
      "text/plain": [
       "33342.2"
      ]
     },
     "execution_count": 126,
     "metadata": {},
     "output_type": "execute_result"
    }
   ],
   "source": [
    "s = 0\n",
    "for x_1, x_2 in zip(l, l2):\n",
    "    s += (x_1 - x_2) ** 2\n",
    "s / len(l2)"
   ]
  },
  {
   "cell_type": "code",
   "execution_count": 127,
   "id": "d40b7d26",
   "metadata": {},
   "outputs": [
    {
     "name": "stdout",
     "output_type": "stream",
     "text": [
      "0 1 \n",
      "1 2 \n",
      "2 4 \n",
      "3 8 \n",
      "4 16 \n",
      "5 32 \n",
      "6 64 \n",
      "7 128 \n",
      "8 256 \n",
      "9 512 \n",
      "0 1 1 2 2 4 3 8 4 16 5 32 6 64 7 128 8 256 9 512 \n"
     ]
    }
   ],
   "source": [
    "new_string = \"\"\n",
    "for x, x_2 in zip(l, l2):\n",
    "    print(str(x) + ' ' + str(x_2) + ' ' )\n",
    "    new_string += str(x) + ' ' + str(x_2) + ' ' \n",
    "print(new_string)"
   ]
  },
  {
   "cell_type": "code",
   "execution_count": null,
   "id": "6917c318",
   "metadata": {},
   "outputs": [],
   "source": []
  },
  {
   "cell_type": "markdown",
   "id": "f5810ebc",
   "metadata": {},
   "source": [
    "#### Словари:  неупорядоченные коллекции произвольных объектов с доступом по ключу\n",
    "https://pythonworld.ru/tipy-dannyx-v-python/slovari-dict-funkcii-i-metody-slovarej.html"
   ]
  },
  {
   "cell_type": "markdown",
   "id": "eec24727",
   "metadata": {},
   "source": [
    "Инициализация словаря"
   ]
  },
  {
   "cell_type": "code",
   "execution_count": 136,
   "id": "d1252316",
   "metadata": {},
   "outputs": [],
   "source": [
    "d = {\n",
    "    'key_1': 1, # Ключ : значение\n",
    "    'key_2': 100,\n",
    "    'strongteam': 'good'\n",
    "}"
   ]
  },
  {
   "cell_type": "code",
   "execution_count": 129,
   "id": "505b7f83",
   "metadata": {},
   "outputs": [],
   "source": [
    "d = dict(key_1=1, key_2=100)"
   ]
  },
  {
   "cell_type": "code",
   "execution_count": 130,
   "id": "7233e31c",
   "metadata": {},
   "outputs": [
    {
     "data": {
      "text/plain": [
       "{'key_1': 1, 'key_2': 100}"
      ]
     },
     "execution_count": 130,
     "metadata": {},
     "output_type": "execute_result"
    }
   ],
   "source": [
    "d"
   ]
  },
  {
   "cell_type": "markdown",
   "id": "272b4b5b",
   "metadata": {},
   "source": [
    "Инициализация через итератор.\n",
    "Первая последовательность интерпретируется как ключи, вторая как значения"
   ]
  },
  {
   "cell_type": "code",
   "execution_count": 131,
   "id": "4c4a2936",
   "metadata": {},
   "outputs": [],
   "source": [
    "d = dict(zip(['key_1', 'key_2', 'key_3'], \n",
    "             [1, 10., 100]))"
   ]
  },
  {
   "cell_type": "code",
   "execution_count": 132,
   "id": "c70b1d5d",
   "metadata": {},
   "outputs": [
    {
     "data": {
      "text/plain": [
       "{'key_1': 1, 'key_2': 10.0, 'key_3': 100}"
      ]
     },
     "execution_count": 132,
     "metadata": {},
     "output_type": "execute_result"
    }
   ],
   "source": [
    "d"
   ]
  },
  {
   "cell_type": "markdown",
   "id": "f47946c7",
   "metadata": {},
   "source": [
    "Доступ по ключу"
   ]
  },
  {
   "cell_type": "code",
   "execution_count": 133,
   "id": "7e4da959",
   "metadata": {},
   "outputs": [
    {
     "name": "stdout",
     "output_type": "stream",
     "text": [
      "1\n"
     ]
    }
   ],
   "source": [
    "print(d['key_1'])"
   ]
  },
  {
   "cell_type": "code",
   "execution_count": 137,
   "id": "4eaf0355",
   "metadata": {},
   "outputs": [
    {
     "name": "stdout",
     "output_type": "stream",
     "text": [
      "good\n"
     ]
    }
   ],
   "source": [
    "print(d['strongteam'])"
   ]
  },
  {
   "cell_type": "markdown",
   "id": "ce85b600",
   "metadata": {},
   "source": [
    "Получить ключи словаря (порядок не гарантриуется)"
   ]
  },
  {
   "cell_type": "code",
   "execution_count": 138,
   "id": "4c361f29",
   "metadata": {},
   "outputs": [
    {
     "data": {
      "text/plain": [
       "dict_keys(['key_1', 'key_2', 'strongteam'])"
      ]
     },
     "execution_count": 138,
     "metadata": {},
     "output_type": "execute_result"
    }
   ],
   "source": [
    "d.keys()"
   ]
  },
  {
   "cell_type": "markdown",
   "id": "71c39136",
   "metadata": {},
   "source": [
    "Итерирование по словарю"
   ]
  },
  {
   "cell_type": "code",
   "execution_count": 140,
   "id": "d952f584",
   "metadata": {},
   "outputs": [
    {
     "name": "stdout",
     "output_type": "stream",
     "text": [
      "key_1 1\n",
      "key_2 100\n",
      "strongteam good\n"
     ]
    }
   ],
   "source": [
    "for key in d.keys():\n",
    "    print(key, d[key])"
   ]
  },
  {
   "cell_type": "markdown",
   "id": "4530d10c",
   "metadata": {},
   "source": [
    "Получить значения словаря"
   ]
  },
  {
   "cell_type": "code",
   "execution_count": 141,
   "id": "0c5ee871",
   "metadata": {},
   "outputs": [
    {
     "data": {
      "text/plain": [
       "dict_values([1, 100, 'good'])"
      ]
     },
     "execution_count": 141,
     "metadata": {},
     "output_type": "execute_result"
    }
   ],
   "source": [
    "d.values()"
   ]
  },
  {
   "cell_type": "markdown",
   "id": "4bf60408",
   "metadata": {},
   "source": [
    "Проитерироваться по значениям словаря"
   ]
  },
  {
   "cell_type": "code",
   "execution_count": 142,
   "id": "866b6a8b",
   "metadata": {},
   "outputs": [
    {
     "name": "stdout",
     "output_type": "stream",
     "text": [
      "1\n",
      "100\n",
      "good\n"
     ]
    }
   ],
   "source": [
    "for value in d.values():\n",
    "    print(value)"
   ]
  },
  {
   "cell_type": "code",
   "execution_count": 143,
   "id": "e65d2dbc",
   "metadata": {},
   "outputs": [],
   "source": [
    "d = {'k1': 1, 'k2': 100}"
   ]
  },
  {
   "cell_type": "markdown",
   "id": "78589cc8",
   "metadata": {},
   "source": [
    "Просуммировать значения словаря"
   ]
  },
  {
   "cell_type": "code",
   "execution_count": 144,
   "id": "71b7e484",
   "metadata": {},
   "outputs": [
    {
     "data": {
      "text/plain": [
       "101"
      ]
     },
     "execution_count": 144,
     "metadata": {},
     "output_type": "execute_result"
    }
   ],
   "source": [
    "sum(d.values())"
   ]
  },
  {
   "cell_type": "markdown",
   "id": "799667cc",
   "metadata": {},
   "source": [
    "Длина словаря"
   ]
  },
  {
   "cell_type": "code",
   "execution_count": 145,
   "id": "645d76bb",
   "metadata": {},
   "outputs": [
    {
     "data": {
      "text/plain": [
       "2"
      ]
     },
     "execution_count": 145,
     "metadata": {},
     "output_type": "execute_result"
    }
   ],
   "source": [
    "len(d.values())"
   ]
  },
  {
   "cell_type": "markdown",
   "id": "e06a1545",
   "metadata": {},
   "source": [
    "Но лучше использовать этот вариант. Он быстрее"
   ]
  },
  {
   "cell_type": "code",
   "execution_count": 146,
   "id": "40ba2f63",
   "metadata": {},
   "outputs": [
    {
     "data": {
      "text/plain": [
       "2"
      ]
     },
     "execution_count": 146,
     "metadata": {},
     "output_type": "execute_result"
    }
   ],
   "source": [
    "len(d)"
   ]
  },
  {
   "cell_type": "markdown",
   "id": "bdb37fba",
   "metadata": {},
   "source": [
    "Итерироваться можно одновременно по ключам и значения с помощью items"
   ]
  },
  {
   "cell_type": "code",
   "execution_count": 147,
   "id": "659d607c",
   "metadata": {},
   "outputs": [
    {
     "name": "stdout",
     "output_type": "stream",
     "text": [
      "k1 1\n",
      "k2 100\n"
     ]
    }
   ],
   "source": [
    "for key, value in d.items():\n",
    "    print(key, value)"
   ]
  },
  {
   "cell_type": "code",
   "execution_count": 148,
   "id": "eee1d758",
   "metadata": {},
   "outputs": [
    {
     "name": "stdout",
     "output_type": "stream",
     "text": [
      "k1 1\n",
      "k2 100\n"
     ]
    }
   ],
   "source": [
    "for key in d.keys():\n",
    "    print(key, d[key])"
   ]
  },
  {
   "cell_type": "code",
   "execution_count": 149,
   "id": "bb93c5b8",
   "metadata": {},
   "outputs": [
    {
     "name": "stdout",
     "output_type": "stream",
     "text": [
      "k1 1\n",
      "k2 100\n"
     ]
    }
   ],
   "source": [
    "for key in d:\n",
    "    print(key, d[key])"
   ]
  },
  {
   "cell_type": "code",
   "execution_count": null,
   "id": "a8fd663b",
   "metadata": {},
   "outputs": [],
   "source": []
  },
  {
   "cell_type": "markdown",
   "id": "ec9cdc70",
   "metadata": {},
   "source": [
    "Инициализация через dict comprehension"
   ]
  },
  {
   "cell_type": "code",
   "execution_count": 150,
   "id": "1937f544",
   "metadata": {},
   "outputs": [
    {
     "data": {
      "text/plain": [
       "{'k1': 1.0, 'k2': 2, 'k3': '3', 4: {'key_1': 4}}"
      ]
     },
     "execution_count": 150,
     "metadata": {},
     "output_type": "execute_result"
    }
   ],
   "source": [
    "keys = ['k1', 'k2', 'k3', 4]\n",
    "values = [1., 2, '3', {'key_1': 4}]\n",
    "d = {key: value for key, value in zip(keys, values)}\n",
    "d"
   ]
  },
  {
   "cell_type": "markdown",
   "id": "b68422fe",
   "metadata": {},
   "source": [
    "Ключами массива могут быть только хэшируемые типы данных. Списки не являются хешируемыми."
   ]
  },
  {
   "cell_type": "code",
   "execution_count": 151,
   "id": "08605385",
   "metadata": {},
   "outputs": [
    {
     "ename": "TypeError",
     "evalue": "unhashable type: 'list'",
     "output_type": "error",
     "traceback": [
      "\u001b[0;31m---------------------------------------------------------------------------\u001b[0m",
      "\u001b[0;31mTypeError\u001b[0m                                 Traceback (most recent call last)",
      "Cell \u001b[0;32mIn[151], line 2\u001b[0m\n\u001b[1;32m      1\u001b[0m bad_key \u001b[38;5;241m=\u001b[39m [\u001b[38;5;241m1\u001b[39m,\u001b[38;5;241m2\u001b[39m]\n\u001b[0;32m----> 2\u001b[0m \u001b[43md\u001b[49m\u001b[43m[\u001b[49m\u001b[43mbad_key\u001b[49m\u001b[43m]\u001b[49m \u001b[38;5;241m=\u001b[39m \u001b[38;5;241m1\u001b[39m\n",
      "\u001b[0;31mTypeError\u001b[0m: unhashable type: 'list'"
     ]
    }
   ],
   "source": [
    "bad_key = [1,2]\n",
    "d[bad_key] = 1"
   ]
  },
  {
   "cell_type": "markdown",
   "id": "a5c1b50d",
   "metadata": {},
   "source": [
    "А вот кортежи являются"
   ]
  },
  {
   "cell_type": "code",
   "execution_count": 153,
   "id": "e4c36ee9",
   "metadata": {},
   "outputs": [],
   "source": [
    "good_key = (1,2)\n",
    "d[good_key] = 1"
   ]
  },
  {
   "cell_type": "markdown",
   "id": "2c6f27dd",
   "metadata": {},
   "source": [
    "А словари нет"
   ]
  },
  {
   "cell_type": "code",
   "execution_count": 154,
   "id": "5f7e16eb",
   "metadata": {},
   "outputs": [
    {
     "ename": "TypeError",
     "evalue": "unhashable type: 'dict'",
     "output_type": "error",
     "traceback": [
      "\u001b[0;31m---------------------------------------------------------------------------\u001b[0m",
      "\u001b[0;31mTypeError\u001b[0m                                 Traceback (most recent call last)",
      "Cell \u001b[0;32mIn[154], line 2\u001b[0m\n\u001b[1;32m      1\u001b[0m bad_key \u001b[38;5;241m=\u001b[39m {\u001b[38;5;124m'\u001b[39m\u001b[38;5;124mk\u001b[39m\u001b[38;5;124m'\u001b[39m: \u001b[38;5;241m1\u001b[39m}\n\u001b[0;32m----> 2\u001b[0m \u001b[43md\u001b[49m\u001b[43m[\u001b[49m\u001b[43mbad_key\u001b[49m\u001b[43m]\u001b[49m \u001b[38;5;241m=\u001b[39m \u001b[38;5;241m1\u001b[39m\n",
      "\u001b[0;31mTypeError\u001b[0m: unhashable type: 'dict'"
     ]
    }
   ],
   "source": [
    "bad_key = {'k': 1}\n",
    "d[bad_key] = 1"
   ]
  },
  {
   "cell_type": "code",
   "execution_count": null,
   "id": "b7e40e3f",
   "metadata": {},
   "outputs": [],
   "source": []
  },
  {
   "cell_type": "markdown",
   "id": "ff57a2a2",
   "metadata": {},
   "source": [
    "https://www.codecademy.com/learn/learn-python-3"
   ]
  },
  {
   "cell_type": "code",
   "execution_count": 175,
   "id": "78d1f041",
   "metadata": {},
   "outputs": [],
   "source": [
    "import requests\n",
    "import matplotlib.pyplot as plt\n",
    "import datetime"
   ]
  },
  {
   "cell_type": "code",
   "execution_count": 183,
   "id": "3cc43e1f",
   "metadata": {},
   "outputs": [],
   "source": [
    "symbol = \"BTCUSDT\"\n",
    "req = f\"https://api.binance.com/api/v3/klines?symbol={symbol}&interval=1h\"\n",
    "response = requests.get(req)"
   ]
  },
  {
   "cell_type": "code",
   "execution_count": 184,
   "id": "d41cb197",
   "metadata": {},
   "outputs": [
    {
     "data": {
      "text/plain": [
       "[<matplotlib.lines.Line2D at 0x12c8facb0>]"
      ]
     },
     "execution_count": 184,
     "metadata": {},
     "output_type": "execute_result"
    },
    {
     "data": {
      "image/png": "[encoded data removed]",
      "text/plain": [
       "<Figure size 2000x1200 with 1 Axes>"
      ]
     },
     "metadata": {},
     "output_type": "display_data"
    }
   ],
   "source": [
    "timestamp = []\n",
    "price = []\n",
    "\n",
    "for rec in response.json():\n",
    "    timestamp.append(datetime.datetime.fromtimestamp(rec[0]/1000))\n",
    "    price.append(float(rec[1]))\n",
    "    \n",
    "plt.figure(figsize=(20, 12))\n",
    "plt.grid()\n",
    "plt.title(f\"{symbol} price\")\n",
    "plt.plot(timestamp, price)\n"
   ]
  },
  {
   "cell_type": "code",
   "execution_count": null,
   "id": "9c83c330",
   "metadata": {},
   "outputs": [],
   "source": []
  },
  {
   "cell_type": "code",
   "execution_count": null,
   "id": "3ad23910",
   "metadata": {},
   "outputs": [],
   "source": []
  }
 ],
 "metadata": {
  "kernelspec": {
   "display_name": "Python 3 (ipykernel)",
   "language": "python",
   "name": "python3"
  },
  "language_info": {
   "codemirror_mode": {
    "name": "ipython",
    "version": 3
   },
   "file_extension": ".py",
   "mimetype": "text/x-python",
   "name": "python",
   "nbconvert_exporter": "python",
   "pygments_lexer": "ipython3",
   "version": "3.10.9"
  }
 },
 "nbformat": 4,
 "nbformat_minor": 5
}
