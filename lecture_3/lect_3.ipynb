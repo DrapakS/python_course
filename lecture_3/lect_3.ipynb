{
 "cells": [
  {
   "cell_type": "markdown",
   "id": "6d054d4b",
   "metadata": {},
   "source": [
    "### Строки"
   ]
  },
  {
   "cell_type": "markdown",
   "id": "3d368c34",
   "metadata": {},
   "source": [
    "#### https://pythonworld.ru/tipy-dannyx-v-python/stroki-funkcii-i-metody-strok.html"
   ]
  },
  {
   "cell_type": "code",
   "execution_count": 1,
   "id": "0c83234e",
   "metadata": {},
   "outputs": [
    {
     "name": "stdout",
     "output_type": "stream",
     "text": [
      "string\n"
     ]
    }
   ],
   "source": [
    "# Инициализация строк\n",
    "s_1 = \"string\"\n",
    "print(s_1)"
   ]
  },
  {
   "cell_type": "code",
   "execution_count": 2,
   "id": "277e0be4",
   "metadata": {},
   "outputs": [
    {
     "data": {
      "text/plain": [
       "'my string'"
      ]
     },
     "execution_count": 2,
     "metadata": {},
     "output_type": "execute_result"
    }
   ],
   "source": [
    "# Сложение строк\n",
    "s_2 = 'my '\n",
    "s = s_2 + s_1\n",
    "s"
   ]
  },
  {
   "cell_type": "code",
   "execution_count": 3,
   "id": "d291f82c",
   "metadata": {},
   "outputs": [
    {
     "name": "stdout",
     "output_type": "stream",
     "text": [
      "\n"
     ]
    }
   ],
   "source": [
    "# Пустая строка \n",
    "s = ''\n",
    "print(s)"
   ]
  },
  {
   "cell_type": "markdown",
   "id": "6592c999",
   "metadata": {},
   "source": [
    " Для работы со строками можно использовать одинарные ' двойные \" и тройные ковычки \"\"\""
   ]
  },
  {
   "cell_type": "code",
   "execution_count": 4,
   "id": "6c642e56",
   "metadata": {},
   "outputs": [
    {
     "name": "stdout",
     "output_type": "stream",
     "text": [
      "'qq'\n"
     ]
    }
   ],
   "source": [
    "s = \"'qq'\"\n",
    "print(s)"
   ]
  },
  {
   "cell_type": "code",
   "execution_count": 6,
   "id": "6efc9eb8",
   "metadata": {},
   "outputs": [
    {
     "ename": "SyntaxError",
     "evalue": "invalid syntax (3899268049.py, line 1)",
     "output_type": "error",
     "traceback": [
      "\u001b[0;36m  Input \u001b[0;32mIn [6]\u001b[0;36m\u001b[0m\n\u001b[0;31m    s = \"\"qq\"\"\u001b[0m\n\u001b[0m          ^\u001b[0m\n\u001b[0;31mSyntaxError\u001b[0m\u001b[0;31m:\u001b[0m invalid syntax\n"
     ]
    }
   ],
   "source": [
    "s = \"\"qq\"\"\n",
    "print(s)"
   ]
  },
  {
   "cell_type": "markdown",
   "id": "f1c7a488",
   "metadata": {},
   "source": [
    "Тройные ковычки позволяют переносить строку"
   ]
  },
  {
   "cell_type": "code",
   "execution_count": 7,
   "id": "c619e867",
   "metadata": {},
   "outputs": [
    {
     "name": "stdout",
     "output_type": "stream",
     "text": [
      "\n",
      "123\n",
      "\n"
     ]
    }
   ],
   "source": [
    "s = \"\"\"\n",
    "123\n",
    "\"\"\"\n",
    "print(s)"
   ]
  },
  {
   "cell_type": "markdown",
   "id": "566c13bb",
   "metadata": {},
   "source": [
    "Дублирование строки"
   ]
  },
  {
   "cell_type": "code",
   "execution_count": 8,
   "id": "85c22ffd",
   "metadata": {},
   "outputs": [
    {
     "data": {
      "text/plain": [
       "'stringstringstring'"
      ]
     },
     "execution_count": 8,
     "metadata": {},
     "output_type": "execute_result"
    }
   ],
   "source": [
    "s = \"string\"\n",
    "s * 3"
   ]
  },
  {
   "cell_type": "markdown",
   "id": "6eb4a540",
   "metadata": {},
   "source": [
    "Длина строки"
   ]
  },
  {
   "cell_type": "code",
   "execution_count": 9,
   "id": "69f04b63",
   "metadata": {},
   "outputs": [
    {
     "data": {
      "text/plain": [
       "6"
      ]
     },
     "execution_count": 9,
     "metadata": {},
     "output_type": "execute_result"
    }
   ],
   "source": [
    "len(s)"
   ]
  },
  {
   "cell_type": "markdown",
   "id": "5c8be036",
   "metadata": {},
   "source": [
    "Доступ по индексу"
   ]
  },
  {
   "cell_type": "code",
   "execution_count": 10,
   "id": "cd151a75",
   "metadata": {},
   "outputs": [
    {
     "data": {
      "text/plain": [
       "'s'"
      ]
     },
     "execution_count": 10,
     "metadata": {},
     "output_type": "execute_result"
    }
   ],
   "source": [
    "s[0]"
   ]
  },
  {
   "cell_type": "code",
   "execution_count": 11,
   "id": "7661729b",
   "metadata": {},
   "outputs": [
    {
     "data": {
      "text/plain": [
       "'n'"
      ]
     },
     "execution_count": 11,
     "metadata": {},
     "output_type": "execute_result"
    }
   ],
   "source": [
    "s[4]"
   ]
  },
  {
   "cell_type": "markdown",
   "id": "59ec86fc",
   "metadata": {},
   "source": [
    "Чтобы получить доступ к i-му элементу с конца используем отрцательные индексы "
   ]
  },
  {
   "cell_type": "code",
   "execution_count": 12,
   "id": "c16b9639",
   "metadata": {},
   "outputs": [
    {
     "data": {
      "text/plain": [
       "'g'"
      ]
     },
     "execution_count": 12,
     "metadata": {},
     "output_type": "execute_result"
    }
   ],
   "source": [
    "s[-1]"
   ]
  },
  {
   "cell_type": "markdown",
   "id": "5e83dc55",
   "metadata": {},
   "source": [
    "#### Слайсы (slice)"
   ]
  },
  {
   "cell_type": "code",
   "execution_count": 13,
   "id": "2473a0f5",
   "metadata": {},
   "outputs": [
    {
     "data": {
      "text/plain": [
       "'str'"
      ]
     },
     "execution_count": 13,
     "metadata": {},
     "output_type": "execute_result"
    }
   ],
   "source": [
    "s[:3]"
   ]
  },
  {
   "cell_type": "code",
   "execution_count": 14,
   "id": "4d2003f3",
   "metadata": {},
   "outputs": [
    {
     "data": {
      "text/plain": [
       "'ing'"
      ]
     },
     "execution_count": 14,
     "metadata": {},
     "output_type": "execute_result"
    }
   ],
   "source": [
    "s[3:]"
   ]
  },
  {
   "cell_type": "code",
   "execution_count": 15,
   "id": "2a589824",
   "metadata": {},
   "outputs": [
    {
     "data": {
      "text/plain": [
       "'ri'"
      ]
     },
     "execution_count": 15,
     "metadata": {},
     "output_type": "execute_result"
    }
   ],
   "source": [
    "s[2:4]"
   ]
  },
  {
   "cell_type": "code",
   "execution_count": 16,
   "id": "8c5154ed",
   "metadata": {},
   "outputs": [
    {
     "data": {
      "text/plain": [
       "'trin'"
      ]
     },
     "execution_count": 16,
     "metadata": {},
     "output_type": "execute_result"
    }
   ],
   "source": [
    "s[1:-1]"
   ]
  },
  {
   "cell_type": "markdown",
   "id": "ff6aeab3",
   "metadata": {},
   "source": [
    "Получить каждый второй элемент строки"
   ]
  },
  {
   "cell_type": "code",
   "execution_count": 17,
   "id": "fba0515d",
   "metadata": {},
   "outputs": [
    {
     "data": {
      "text/plain": [
       "'srn'"
      ]
     },
     "execution_count": 17,
     "metadata": {},
     "output_type": "execute_result"
    }
   ],
   "source": [
    "s[::2]"
   ]
  },
  {
   "cell_type": "markdown",
   "id": "bf2ba88f",
   "metadata": {},
   "source": [
    "Строка с первого элемента до 4го(не включительно) с шагом 2"
   ]
  },
  {
   "cell_type": "code",
   "execution_count": 19,
   "id": "d99197b1",
   "metadata": {},
   "outputs": [
    {
     "data": {
      "text/plain": [
       "'ti'"
      ]
     },
     "execution_count": 19,
     "metadata": {},
     "output_type": "execute_result"
    }
   ],
   "source": [
    "s[1:4:2]"
   ]
  },
  {
   "cell_type": "markdown",
   "id": "f4ad04ff",
   "metadata": {},
   "source": [
    "Строка с последнего элемента до 1 не включительно, с шагом 1 (в обратном порядке)"
   ]
  },
  {
   "cell_type": "code",
   "execution_count": 20,
   "id": "b7750ae0",
   "metadata": {},
   "outputs": [
    {
     "data": {
      "text/plain": [
       "'gnir'"
      ]
     },
     "execution_count": 20,
     "metadata": {},
     "output_type": "execute_result"
    }
   ],
   "source": [
    "s[-1:1:-1]"
   ]
  },
  {
   "cell_type": "markdown",
   "id": "13262cec",
   "metadata": {},
   "source": [
    "Строка в обратном порядке"
   ]
  },
  {
   "cell_type": "code",
   "execution_count": 21,
   "id": "da34b062",
   "metadata": {},
   "outputs": [
    {
     "data": {
      "text/plain": [
       "'gnirts'"
      ]
     },
     "execution_count": 21,
     "metadata": {},
     "output_type": "execute_result"
    }
   ],
   "source": [
    "s[::-1]"
   ]
  },
  {
   "cell_type": "markdown",
   "id": "66c914eb",
   "metadata": {},
   "source": [
    "\\n -- перевод строки"
   ]
  },
  {
   "cell_type": "code",
   "execution_count": 22,
   "id": "8e7c255f",
   "metadata": {},
   "outputs": [
    {
     "name": "stdout",
     "output_type": "stream",
     "text": [
      "abc \n",
      "cde\n"
     ]
    }
   ],
   "source": [
    "a = \"abc \\ncde\"\n",
    "print(a)"
   ]
  },
  {
   "cell_type": "markdown",
   "id": "09d153da",
   "metadata": {},
   "source": [
    "Разделение строки по подстроке ('.')"
   ]
  },
  {
   "cell_type": "code",
   "execution_count": 23,
   "id": "f1ec496e",
   "metadata": {},
   "outputs": [
    {
     "data": {
      "text/plain": [
       "['ab', 'cd', 'ef']"
      ]
     },
     "execution_count": 23,
     "metadata": {},
     "output_type": "execute_result"
    }
   ],
   "source": [
    "a = \"ab.cd.ef\"\n",
    "a.split('.')"
   ]
  },
  {
   "cell_type": "code",
   "execution_count": 25,
   "id": "c2299662",
   "metadata": {},
   "outputs": [
    {
     "data": {
      "text/plain": [
       "['ab.', 'd.ef']"
      ]
     },
     "execution_count": 25,
     "metadata": {},
     "output_type": "execute_result"
    }
   ],
   "source": [
    "a = \"ab.cd.ef\"\n",
    "a.split('c')"
   ]
  },
  {
   "cell_type": "code",
   "execution_count": 26,
   "id": "07c4c104",
   "metadata": {},
   "outputs": [
    {
     "data": {
      "text/plain": [
       "'ab'"
      ]
     },
     "execution_count": 26,
     "metadata": {},
     "output_type": "execute_result"
    }
   ],
   "source": [
    "a.split('.')[0]"
   ]
  },
  {
   "cell_type": "markdown",
   "id": "717f2985",
   "metadata": {},
   "source": [
    "Поиск первого вхождения подстроки в строку"
   ]
  },
  {
   "cell_type": "code",
   "execution_count": 27,
   "id": "b9d3ad12",
   "metadata": {},
   "outputs": [
    {
     "data": {
      "text/plain": [
       "2"
      ]
     },
     "execution_count": 27,
     "metadata": {},
     "output_type": "execute_result"
    }
   ],
   "source": [
    "a.find('.')"
   ]
  },
  {
   "cell_type": "markdown",
   "id": "caa13f7c",
   "metadata": {},
   "source": [
    "Поиск последнего вхождения подстроки в строку"
   ]
  },
  {
   "cell_type": "code",
   "execution_count": 28,
   "id": "13b7d367",
   "metadata": {},
   "outputs": [
    {
     "data": {
      "text/plain": [
       "5"
      ]
     },
     "execution_count": 28,
     "metadata": {},
     "output_type": "execute_result"
    }
   ],
   "source": [
    "a.rfind('.')"
   ]
  },
  {
   "cell_type": "markdown",
   "id": "c068ef1e",
   "metadata": {},
   "source": [
    "Замена подстроки"
   ]
  },
  {
   "cell_type": "code",
   "execution_count": 29,
   "id": "ffb67de5",
   "metadata": {},
   "outputs": [
    {
     "data": {
      "text/plain": [
       "'ab:cd:ef'"
      ]
     },
     "execution_count": 29,
     "metadata": {},
     "output_type": "execute_result"
    }
   ],
   "source": [
    "a = \"ab..cd..ef\"\n",
    "a.replace('..', ':')"
   ]
  },
  {
   "cell_type": "markdown",
   "id": "6ff8b04d",
   "metadata": {},
   "source": [
    "Сделать все буквенные символы заглавными"
   ]
  },
  {
   "cell_type": "code",
   "execution_count": 30,
   "id": "a7c31335",
   "metadata": {},
   "outputs": [
    {
     "data": {
      "text/plain": [
       "'AB..CD..EF'"
      ]
     },
     "execution_count": 30,
     "metadata": {},
     "output_type": "execute_result"
    }
   ],
   "source": [
    "a.upper()"
   ]
  },
  {
   "cell_type": "markdown",
   "id": "dcad7fd9",
   "metadata": {},
   "source": [
    "Сделать все буквенные символы строчными"
   ]
  },
  {
   "cell_type": "code",
   "execution_count": 34,
   "id": "24c10b3f",
   "metadata": {},
   "outputs": [
    {
     "data": {
      "text/plain": [
       "'!aaaaaa2'"
      ]
     },
     "execution_count": 34,
     "metadata": {},
     "output_type": "execute_result"
    }
   ],
   "source": [
    "a = '!aAaAAA2'\n",
    "a.lower()"
   ]
  },
  {
   "cell_type": "markdown",
   "id": "be0b1c83",
   "metadata": {},
   "source": [
    "ВАЖНО. Это новая строка. Старая строка осталось такой же"
   ]
  },
  {
   "cell_type": "code",
   "execution_count": 36,
   "id": "30a115e0",
   "metadata": {},
   "outputs": [
    {
     "data": {
      "text/plain": [
       "'!aAaAAA2'"
      ]
     },
     "execution_count": 36,
     "metadata": {},
     "output_type": "execute_result"
    }
   ],
   "source": [
    "a"
   ]
  },
  {
   "cell_type": "markdown",
   "id": "68ab856f",
   "metadata": {},
   "source": [
    "По строкам можно итерироваться!"
   ]
  },
  {
   "cell_type": "code",
   "execution_count": 32,
   "id": "c8f68a82",
   "metadata": {},
   "outputs": [
    {
     "name": "stdout",
     "output_type": "stream",
     "text": [
      "A\n",
      "a\n",
      "A\n",
      "a\n",
      "a\n",
      "a\n"
     ]
    }
   ],
   "source": [
    "a = 'aAaAAA'\n",
    "for c in a:\n",
    "    if c == 'a':\n",
    "        print(c.upper())\n",
    "    else:\n",
    "        print(c.lower())\n"
   ]
  },
  {
   "cell_type": "markdown",
   "id": "33d04ef7",
   "metadata": {},
   "source": [
    "Отдельным элементам строки нельзя присвоить значение"
   ]
  },
  {
   "cell_type": "code",
   "execution_count": 33,
   "id": "c97a3e98",
   "metadata": {},
   "outputs": [
    {
     "ename": "TypeError",
     "evalue": "'str' object does not support item assignment",
     "output_type": "error",
     "traceback": [
      "\u001b[0;31m---------------------------------------------------------------------------\u001b[0m",
      "\u001b[0;31mTypeError\u001b[0m                                 Traceback (most recent call last)",
      "Input \u001b[0;32mIn [33]\u001b[0m, in \u001b[0;36m<cell line: 1>\u001b[0;34m()\u001b[0m\n\u001b[0;32m----> 1\u001b[0m a[\u001b[38;5;241m2\u001b[39m] \u001b[38;5;241m=\u001b[39m \u001b[38;5;241m1\u001b[39m\n",
      "\u001b[0;31mTypeError\u001b[0m: 'str' object does not support item assignment"
     ]
    }
   ],
   "source": [
    "a[2] = 1"
   ]
  },
  {
   "cell_type": "markdown",
   "id": "144a6ce1",
   "metadata": {},
   "source": [
    "Если значение все-таки нужно \"присвоить\", то заменять нужно всю строку"
   ]
  },
  {
   "cell_type": "markdown",
   "id": "10aa4adb",
   "metadata": {},
   "source": [
    "### Списки (list)"
   ]
  },
  {
   "cell_type": "markdown",
   "id": "665563ac",
   "metadata": {},
   "source": [
    "Списки в Python - упорядоченные изменяемые коллекции объектов произвольных типов"
   ]
  },
  {
   "cell_type": "markdown",
   "id": "e04cc0d7",
   "metadata": {},
   "source": [
    "#### https://pythonworld.ru/tipy-dannyx-v-python/spiski-list-funkcii-i-metody-spiskov.html"
   ]
  },
  {
   "cell_type": "markdown",
   "id": "5e436ec3",
   "metadata": {},
   "source": [
    "Иницииализация списка"
   ]
  },
  {
   "cell_type": "code",
   "execution_count": null,
   "id": "9078e12e",
   "metadata": {},
   "outputs": [],
   "source": [
    "l = [0, 1, 2, 3, 4]\n",
    "print(l)"
   ]
  },
  {
   "cell_type": "markdown",
   "id": "1de1a3dc",
   "metadata": {},
   "source": [
    "Инициализация списка через range"
   ]
  },
  {
   "cell_type": "code",
   "execution_count": 39,
   "id": "3ff1cdca",
   "metadata": {},
   "outputs": [
    {
     "name": "stdout",
     "output_type": "stream",
     "text": [
      "[0, 1, 2, 3, 4]\n"
     ]
    }
   ],
   "source": [
    "l = list(range(5))\n",
    "print(l)"
   ]
  },
  {
   "cell_type": "markdown",
   "id": "5162d0ab",
   "metadata": {},
   "source": [
    "Что такое range?\n",
    "\n",
    "https://treyhunner.com/2018/02/python-range-is-not-an-iterator/"
   ]
  },
  {
   "cell_type": "markdown",
   "id": "64a972ff",
   "metadata": {},
   "source": [
    "Инициализация списка произвольным итерируемым объектом (строкой)"
   ]
  },
  {
   "cell_type": "code",
   "execution_count": 40,
   "id": "5b86f552",
   "metadata": {},
   "outputs": [
    {
     "name": "stdout",
     "output_type": "stream",
     "text": [
      "['a', 'b', 'c', 'd']\n"
     ]
    }
   ],
   "source": [
    "l = list('abcd')\n",
    "print(l)"
   ]
  },
  {
   "cell_type": "markdown",
   "id": "0989bac8",
   "metadata": {},
   "source": [
    "Пустой список"
   ]
  },
  {
   "cell_type": "code",
   "execution_count": 41,
   "id": "d2cbad12",
   "metadata": {},
   "outputs": [
    {
     "name": "stdout",
     "output_type": "stream",
     "text": [
      "[]\n"
     ]
    }
   ],
   "source": [
    "l = []\n",
    "print(l)"
   ]
  },
  {
   "cell_type": "markdown",
   "id": "8a49b061",
   "metadata": {},
   "source": [
    "Список может содержать элементы разных типов"
   ]
  },
  {
   "cell_type": "code",
   "execution_count": 43,
   "id": "d5acfae0",
   "metadata": {},
   "outputs": [
    {
     "name": "stdout",
     "output_type": "stream",
     "text": [
      "['a', 123, 'abc', [1, 2], 1.1]\n"
     ]
    }
   ],
   "source": [
    "l = ['a', 123, 'abc', [1, 2], 1.1]\n",
    "print(l)"
   ]
  },
  {
   "cell_type": "markdown",
   "id": "c59eb18b",
   "metadata": {},
   "source": [
    "Инициализация через list comprehension"
   ]
  },
  {
   "cell_type": "code",
   "execution_count": 44,
   "id": "e2eb6dc4",
   "metadata": {},
   "outputs": [
    {
     "name": "stdout",
     "output_type": "stream",
     "text": [
      "[0, 1, 2, 3, 4, 5, 6, 7, 8, 9]\n"
     ]
    }
   ],
   "source": [
    "l = [i for i in range(10)]\n",
    "print(l)"
   ]
  },
  {
   "cell_type": "markdown",
   "id": "bf36b6d7",
   "metadata": {},
   "source": [
    "Добавим в list comprehension условие\n",
    "\n",
    "В данном случае только четные элементы попадут в список"
   ]
  },
  {
   "cell_type": "code",
   "execution_count": 45,
   "id": "47068702",
   "metadata": {},
   "outputs": [
    {
     "name": "stdout",
     "output_type": "stream",
     "text": [
      "[0, 2, 4, 6, 8]\n"
     ]
    }
   ],
   "source": [
    "l = [i for i in range(10) if i % 2 == 0]\n",
    "print(l)"
   ]
  },
  {
   "cell_type": "markdown",
   "id": "a86526d4",
   "metadata": {},
   "source": [
    "Усложним list comprehension еще немного \n",
    "\n",
    "Теперь мы генерируем только квадраты четных чисел\n",
    "\n",
    "Таким образом мы можем не просто использовать элементы итерируемого объекта, но можем сразу производить операции над ними"
   ]
  },
  {
   "cell_type": "code",
   "execution_count": 46,
   "id": "06ab674e",
   "metadata": {},
   "outputs": [
    {
     "name": "stdout",
     "output_type": "stream",
     "text": [
      "[0, 4, 16, 36, 64]\n"
     ]
    }
   ],
   "source": [
    "l = [i ** 2 for i in range(10) if i % 2 == 0]\n",
    "print(l)"
   ]
  },
  {
   "cell_type": "markdown",
   "id": "f30b4a66",
   "metadata": {},
   "source": [
    "Усложним еще немного. Добавим условие на значение объекта\n",
    "\n",
    "Если нам нужно по-разному преобразовывать значения исходной последовательности, то мы можем использовать структуру if-else при генерации\n",
    "\n",
    "Например тут для всех значений < 4 берется значение исходной последовательности, а для остальных берется квадрат"
   ]
  },
  {
   "cell_type": "code",
   "execution_count": 50,
   "id": "da9ae709",
   "metadata": {},
   "outputs": [
    {
     "name": "stdout",
     "output_type": "stream",
     "text": [
      "[0, 2, 16, 36, 64]\n"
     ]
    }
   ],
   "source": [
    "l = [i if i < 4 else i * i for i in range(10) if i % 2 == 0]\n",
    "print(l)"
   ]
  },
  {
   "cell_type": "markdown",
   "id": "39f6322e",
   "metadata": {},
   "source": [
    "Умножение списка работает так же как умножение строк. Список повторяется столько раз на сколько он был умножен"
   ]
  },
  {
   "cell_type": "code",
   "execution_count": 51,
   "id": "8bb74378",
   "metadata": {},
   "outputs": [
    {
     "name": "stdout",
     "output_type": "stream",
     "text": [
      "[0, 2, 16, 36, 64, 0, 2, 16, 36, 64]\n"
     ]
    }
   ],
   "source": [
    "l = l * 2\n",
    "print(l)"
   ]
  },
  {
   "cell_type": "markdown",
   "id": "0a1c649c",
   "metadata": {},
   "source": [
    "Слайсы в списках работают так же как слайсы в строках"
   ]
  },
  {
   "cell_type": "markdown",
   "id": "0ce07f87",
   "metadata": {},
   "source": [
    "Возьмем элемнты с первого включительно по пятый не включительно"
   ]
  },
  {
   "cell_type": "code",
   "execution_count": 52,
   "id": "7c683baa",
   "metadata": {},
   "outputs": [
    {
     "data": {
      "text/plain": [
       "[2, 16, 36, 64]"
      ]
     },
     "execution_count": 52,
     "metadata": {},
     "output_type": "execute_result"
    }
   ],
   "source": [
    "l[1:5]"
   ]
  },
  {
   "cell_type": "markdown",
   "id": "8bc04b7a",
   "metadata": {},
   "source": [
    "Следует думать об этом так. Взять каждый элемент списка, причем смотреть на него в обратном порядке (знак \"-\")\n",
    "Инвертирование списка"
   ]
  },
  {
   "cell_type": "code",
   "execution_count": 53,
   "id": "47cfc725",
   "metadata": {},
   "outputs": [
    {
     "data": {
      "text/plain": [
       "[64, 36, 16, 2, 0, 64, 36, 16, 2, 0]"
      ]
     },
     "execution_count": 53,
     "metadata": {},
     "output_type": "execute_result"
    }
   ],
   "source": [
    "l[::-1]"
   ]
  },
  {
   "cell_type": "markdown",
   "id": "577e9196",
   "metadata": {},
   "source": [
    "Взять каждый второй элемент списка (знак положительный, значит порядок прямой)"
   ]
  },
  {
   "cell_type": "code",
   "execution_count": 54,
   "id": "c28bd1db",
   "metadata": {},
   "outputs": [
    {
     "data": {
      "text/plain": [
       "[0, 16, 64, 2, 36]"
      ]
     },
     "execution_count": 54,
     "metadata": {},
     "output_type": "execute_result"
    }
   ],
   "source": [
    "l[::2]"
   ]
  },
  {
   "cell_type": "markdown",
   "id": "76be97e3",
   "metadata": {},
   "source": [
    "Взять каждый второй элемент начиная с первого до 6го не включительно"
   ]
  },
  {
   "cell_type": "code",
   "execution_count": 55,
   "id": "2a38be1a",
   "metadata": {},
   "outputs": [
    {
     "data": {
      "text/plain": [
       "[2, 36, 0]"
      ]
     },
     "execution_count": 55,
     "metadata": {},
     "output_type": "execute_result"
    }
   ],
   "source": [
    "l[1:6:2]"
   ]
  },
  {
   "cell_type": "markdown",
   "id": "3f677358",
   "metadata": {},
   "source": [
    "Добавления элемента в список. Метод append"
   ]
  },
  {
   "cell_type": "code",
   "execution_count": 56,
   "id": "d4d169f0",
   "metadata": {},
   "outputs": [
    {
     "name": "stdout",
     "output_type": "stream",
     "text": [
      "[0, 1, 2, 3, 4, 5, 6, 7, 8, 9]\n",
      "[0, 1, 2, 3, 4, 5, 6, 7, 8, 9, 100]\n"
     ]
    }
   ],
   "source": [
    "l = list(range(10))\n",
    "print(l)\n",
    "l.append(100)\n",
    "print(l)"
   ]
  },
  {
   "cell_type": "markdown",
   "id": "e3bcfd4d",
   "metadata": {},
   "source": [
    "Сложение списков (аналогично строкам)"
   ]
  },
  {
   "cell_type": "code",
   "execution_count": 57,
   "id": "01a841f3",
   "metadata": {},
   "outputs": [
    {
     "name": "stdout",
     "output_type": "stream",
     "text": [
      "[0, 1, 2, 3, 4, 5, 6, 7, 8, 9, 100, 1, 2, 200]\n"
     ]
    }
   ],
   "source": [
    "l = l + [1,2,200]\n",
    "print(l)"
   ]
  },
  {
   "cell_type": "markdown",
   "id": "5a40558b",
   "metadata": {},
   "source": [
    "Сортировка списка\n",
    "Переприсваивать ничего не нужно. Список становится отсортированным"
   ]
  },
  {
   "cell_type": "code",
   "execution_count": 58,
   "id": "00243525",
   "metadata": {},
   "outputs": [
    {
     "name": "stdout",
     "output_type": "stream",
     "text": [
      "[0, 1, 1, 2, 2, 3, 4, 5, 6, 7, 8, 9, 100, 200]\n"
     ]
    }
   ],
   "source": [
    "l.sort()\n",
    "print(l)"
   ]
  },
  {
   "cell_type": "code",
   "execution_count": 59,
   "id": "4fae47d5",
   "metadata": {},
   "outputs": [
    {
     "name": "stdout",
     "output_type": "stream",
     "text": [
      "None\n"
     ]
    }
   ],
   "source": [
    "list_2 = l.sort()\n",
    "print(list_2)"
   ]
  },
  {
   "cell_type": "markdown",
   "id": "c0360cd1",
   "metadata": {},
   "source": [
    "Метод count считает сколько раз встретился элемент в списке"
   ]
  },
  {
   "cell_type": "code",
   "execution_count": 60,
   "id": "98f7a03c",
   "metadata": {},
   "outputs": [
    {
     "data": {
      "text/plain": [
       "2"
      ]
     },
     "execution_count": 60,
     "metadata": {},
     "output_type": "execute_result"
    }
   ],
   "source": [
    "l.count(2)"
   ]
  },
  {
   "cell_type": "markdown",
   "id": "16c920e5",
   "metadata": {},
   "source": [
    "remove удаляет первое вхождение элемента в список"
   ]
  },
  {
   "cell_type": "code",
   "execution_count": 61,
   "id": "1582a3c9",
   "metadata": {},
   "outputs": [
    {
     "data": {
      "text/plain": [
       "[0, 1, 1, 2, 2, 3, 4, 5, 6, 7, 8, 100, 200]"
      ]
     },
     "execution_count": 61,
     "metadata": {},
     "output_type": "execute_result"
    }
   ],
   "source": [
    "l.remove(9)\n",
    "l"
   ]
  },
  {
   "cell_type": "markdown",
   "id": "75080d5e",
   "metadata": {},
   "source": [
    "insert(index, object) на место с индексом index вставляет объетк object"
   ]
  },
  {
   "cell_type": "code",
   "execution_count": 62,
   "id": "3f1bb14f",
   "metadata": {},
   "outputs": [
    {
     "data": {
      "text/plain": [
       "[0, 1, 1, 2, 2, 5555, 3, 4, 5, 6, 7, 8, 100, 200]"
      ]
     },
     "execution_count": 62,
     "metadata": {},
     "output_type": "execute_result"
    }
   ],
   "source": [
    "l.insert(5, 5555)\n",
    "l"
   ]
  },
  {
   "cell_type": "markdown",
   "id": "0fb29595",
   "metadata": {},
   "source": [
    "По спискам можно итерироваться"
   ]
  },
  {
   "cell_type": "code",
   "execution_count": 63,
   "id": "d6dfc046",
   "metadata": {},
   "outputs": [
    {
     "name": "stdout",
     "output_type": "stream",
     "text": [
      "0\n",
      "1\n",
      "2\n",
      "3\n",
      "4\n"
     ]
    }
   ],
   "source": [
    "l = list(range(10))\n",
    "for x in l:\n",
    "    if x < 5:\n",
    "        print(x)"
   ]
  },
  {
   "cell_type": "code",
   "execution_count": 64,
   "id": "c898d97e",
   "metadata": {},
   "outputs": [
    {
     "data": {
      "text/plain": [
       "[1, 2, 4, 8, 16, 32, 64, 128, 256, 512]"
      ]
     },
     "execution_count": 64,
     "metadata": {},
     "output_type": "execute_result"
    }
   ],
   "source": [
    "l2 = [2 ** x for x in l]\n",
    "l2"
   ]
  },
  {
   "cell_type": "markdown",
   "id": "f8d46e95",
   "metadata": {},
   "source": [
    "Если у вас есть два списка с элементами x_i, y_i, то вы можете проитерироваться по таким парам с помощью генератора zip\n",
    "Он принимает на вход произвольное число списков и дает возможность итерироваться по ним одновременно "
   ]
  },
  {
   "cell_type": "code",
   "execution_count": 65,
   "id": "d40b7d26",
   "metadata": {},
   "outputs": [
    {
     "name": "stdout",
     "output_type": "stream",
     "text": [
      "0 1\n",
      "1 2\n",
      "2 4\n",
      "3 8\n",
      "4 16\n",
      "5 32\n",
      "6 64\n",
      "7 128\n",
      "8 256\n",
      "9 512\n"
     ]
    }
   ],
   "source": [
    "for x, x_2 in zip(l, l2):\n",
    "    print(x, x_2)"
   ]
  },
  {
   "cell_type": "markdown",
   "id": "a26374b6",
   "metadata": {},
   "source": [
    "#### Массивы\n",
    "https://pythonworld.ru/moduli/modul-array-massivy-v-python.html"
   ]
  },
  {
   "cell_type": "markdown",
   "id": "42efe4f8",
   "metadata": {},
   "source": [
    "Главное что нужно знать про массивы -- их лучше не использовать. \n",
    "\n",
    "Для математических задач стоит использовать numpy (см ниже), в остальных ситуация почти всегда разумней использовать списки"
   ]
  },
  {
   "cell_type": "markdown",
   "id": "73100be3",
   "metadata": {},
   "source": [
    "Для начала нужно импортировать модуль array "
   ]
  },
  {
   "cell_type": "code",
   "execution_count": 66,
   "id": "b278ef8d",
   "metadata": {},
   "outputs": [],
   "source": [
    "from array import array"
   ]
  },
  {
   "cell_type": "markdown",
   "id": "828674a0",
   "metadata": {},
   "source": [
    "Для того что бы создать массив нужно вызвать конструктор array(type, iterable)\n",
    "\n",
    "type -- тип будущего массива\n",
    "\n",
    "iterable -- последовательность, из которой нужно получить массив"
   ]
  },
  {
   "cell_type": "code",
   "execution_count": 67,
   "id": "e5e81727",
   "metadata": {},
   "outputs": [
    {
     "data": {
      "text/plain": [
       "array('i', [1, 2, 3])"
      ]
     },
     "execution_count": 67,
     "metadata": {},
     "output_type": "execute_result"
    }
   ],
   "source": [
    "a = array('i', [1,2,3])\n",
    "a"
   ]
  },
  {
   "cell_type": "code",
   "execution_count": 68,
   "id": "c0cf0f76",
   "metadata": {},
   "outputs": [
    {
     "data": {
      "text/plain": [
       "array('f', [1.0, 2.0, 3.0])"
      ]
     },
     "execution_count": 68,
     "metadata": {},
     "output_type": "execute_result"
    }
   ],
   "source": [
    "b = array('f', [1,2,3])\n",
    "b"
   ]
  },
  {
   "cell_type": "code",
   "execution_count": 69,
   "id": "39a39aed",
   "metadata": {},
   "outputs": [
    {
     "data": {
      "text/plain": [
       "[1.0, 2.0, 3.0]"
      ]
     },
     "execution_count": 69,
     "metadata": {},
     "output_type": "execute_result"
    }
   ],
   "source": [
    "b.tolist()"
   ]
  },
  {
   "cell_type": "code",
   "execution_count": 70,
   "id": "d3fdf60f",
   "metadata": {},
   "outputs": [
    {
     "data": {
      "text/plain": [
       "[1.0, 2.0, 3.0]"
      ]
     },
     "execution_count": 70,
     "metadata": {},
     "output_type": "execute_result"
    }
   ],
   "source": [
    "list(b)"
   ]
  },
  {
   "cell_type": "code",
   "execution_count": 71,
   "id": "e032b9e6",
   "metadata": {},
   "outputs": [
    {
     "data": {
      "text/plain": [
       "dtype('int64')"
      ]
     },
     "execution_count": 71,
     "metadata": {},
     "output_type": "execute_result"
    }
   ],
   "source": [
    "import numpy as np\n",
    "a = np.array([1,2,3])\n",
    "a.dtype"
   ]
  },
  {
   "cell_type": "code",
   "execution_count": 72,
   "id": "96998144",
   "metadata": {},
   "outputs": [
    {
     "data": {
      "text/plain": [
       "dtype('int64')"
      ]
     },
     "execution_count": 72,
     "metadata": {},
     "output_type": "execute_result"
    }
   ],
   "source": [
    "b = np.array([1,2,3.])\n",
    "a.dtype"
   ]
  },
  {
   "cell_type": "code",
   "execution_count": 73,
   "id": "91cfd105",
   "metadata": {},
   "outputs": [
    {
     "data": {
      "text/plain": [
       "array([2., 4., 6.])"
      ]
     },
     "execution_count": 73,
     "metadata": {},
     "output_type": "execute_result"
    }
   ],
   "source": [
    "a + b"
   ]
  },
  {
   "cell_type": "markdown",
   "id": "03fd1955",
   "metadata": {},
   "source": [
    "#### Кортежи\n",
    "\n"
   ]
  },
  {
   "cell_type": "markdown",
   "id": "94f3b675",
   "metadata": {},
   "source": [
    "Инициализация кортежа. Можно использовать элементы разных типов"
   ]
  },
  {
   "cell_type": "code",
   "execution_count": 74,
   "id": "c1caa792",
   "metadata": {},
   "outputs": [
    {
     "data": {
      "text/plain": [
       "(1, 2, 3.0, 's')"
      ]
     },
     "execution_count": 74,
     "metadata": {},
     "output_type": "execute_result"
    }
   ],
   "source": [
    "a = (1, 2, 3., 's')\n",
    "a"
   ]
  },
  {
   "cell_type": "markdown",
   "id": "0d2e95c2",
   "metadata": {},
   "source": [
    "Преобразование в список"
   ]
  },
  {
   "cell_type": "code",
   "execution_count": 75,
   "id": "92ef30e3",
   "metadata": {},
   "outputs": [
    {
     "data": {
      "text/plain": [
       "[1, 2, 3.0, 's']"
      ]
     },
     "execution_count": 75,
     "metadata": {},
     "output_type": "execute_result"
    }
   ],
   "source": [
    "list(a)"
   ]
  },
  {
   "cell_type": "markdown",
   "id": "ddc2d4d7",
   "metadata": {},
   "source": [
    "Кортежи весят меньше чем аналогичный список"
   ]
  },
  {
   "cell_type": "code",
   "execution_count": 76,
   "id": "26c4db47",
   "metadata": {},
   "outputs": [
    {
     "data": {
      "text/plain": [
       "56"
      ]
     },
     "execution_count": 76,
     "metadata": {},
     "output_type": "execute_result"
    }
   ],
   "source": [
    "a.__sizeof__()"
   ]
  },
  {
   "cell_type": "code",
   "execution_count": 77,
   "id": "d891b130",
   "metadata": {},
   "outputs": [
    {
     "data": {
      "text/plain": [
       "72"
      ]
     },
     "execution_count": 77,
     "metadata": {},
     "output_type": "execute_result"
    }
   ],
   "source": [
    "list(a).__sizeof__()"
   ]
  },
  {
   "cell_type": "markdown",
   "id": "258d6fc5",
   "metadata": {},
   "source": [
    "Кортежи, как и строки являются неизменяемым типом данных"
   ]
  },
  {
   "cell_type": "code",
   "execution_count": 78,
   "id": "0f3d2248",
   "metadata": {},
   "outputs": [
    {
     "ename": "TypeError",
     "evalue": "'tuple' object does not support item assignment",
     "output_type": "error",
     "traceback": [
      "\u001b[0;31m---------------------------------------------------------------------------\u001b[0m",
      "\u001b[0;31mTypeError\u001b[0m                                 Traceback (most recent call last)",
      "Input \u001b[0;32mIn [78]\u001b[0m, in \u001b[0;36m<cell line: 1>\u001b[0;34m()\u001b[0m\n\u001b[0;32m----> 1\u001b[0m a[\u001b[38;5;241m1\u001b[39m] \u001b[38;5;241m=\u001b[39m \u001b[38;5;241m1\u001b[39m\n",
      "\u001b[0;31mTypeError\u001b[0m: 'tuple' object does not support item assignment"
     ]
    }
   ],
   "source": [
    "a[1] = 1"
   ]
  },
  {
   "cell_type": "markdown",
   "id": "6e0da3cb",
   "metadata": {},
   "source": [
    "Конвертация из списка в кортеж"
   ]
  },
  {
   "cell_type": "code",
   "execution_count": 79,
   "id": "e19c17b7",
   "metadata": {},
   "outputs": [],
   "source": [
    "l = [1,2,3]\n",
    "a = tuple(l)"
   ]
  },
  {
   "cell_type": "code",
   "execution_count": 80,
   "id": "986caec3",
   "metadata": {},
   "outputs": [
    {
     "data": {
      "text/plain": [
       "(1, 2, 3)"
      ]
     },
     "execution_count": 80,
     "metadata": {},
     "output_type": "execute_result"
    }
   ],
   "source": [
    "a"
   ]
  },
  {
   "cell_type": "markdown",
   "id": "f5810ebc",
   "metadata": {},
   "source": [
    "#### Словари:  неупорядоченные коллекции произвольных объектов с доступом по ключу\n",
    "https://pythonworld.ru/tipy-dannyx-v-python/slovari-dict-funkcii-i-metody-slovarej.html"
   ]
  },
  {
   "cell_type": "markdown",
   "id": "eec24727",
   "metadata": {},
   "source": [
    "Инициализация словаря"
   ]
  },
  {
   "cell_type": "code",
   "execution_count": 81,
   "id": "d1252316",
   "metadata": {},
   "outputs": [],
   "source": [
    "d = {\n",
    "    'key_1': 1, # Ключ : значение\n",
    "    'key_2': 100\n",
    "}"
   ]
  },
  {
   "cell_type": "code",
   "execution_count": 82,
   "id": "505b7f83",
   "metadata": {},
   "outputs": [],
   "source": [
    "d = dict(key_1=1, key_2=100)"
   ]
  },
  {
   "cell_type": "markdown",
   "id": "272b4b5b",
   "metadata": {},
   "source": [
    "Инициализация через итератор.\n",
    "Первая последовательность интерпретируется как ключи, вторая как значения"
   ]
  },
  {
   "cell_type": "code",
   "execution_count": 83,
   "id": "4c4a2936",
   "metadata": {},
   "outputs": [],
   "source": [
    "d = dict(zip(['key_1', 'key_2', 'key_3'], [1, 10., 100]))"
   ]
  },
  {
   "cell_type": "markdown",
   "id": "f47946c7",
   "metadata": {},
   "source": [
    "Доступ по ключу"
   ]
  },
  {
   "cell_type": "code",
   "execution_count": 84,
   "id": "7e4da959",
   "metadata": {},
   "outputs": [
    {
     "data": {
      "text/plain": [
       "1"
      ]
     },
     "execution_count": 84,
     "metadata": {},
     "output_type": "execute_result"
    }
   ],
   "source": [
    "d['key_1']"
   ]
  },
  {
   "cell_type": "markdown",
   "id": "ce85b600",
   "metadata": {},
   "source": [
    "Получить ключи словаря (порядок не гарантриуется)"
   ]
  },
  {
   "cell_type": "code",
   "execution_count": 85,
   "id": "4c361f29",
   "metadata": {},
   "outputs": [
    {
     "data": {
      "text/plain": [
       "dict_keys(['key_1', 'key_2', 'key_3'])"
      ]
     },
     "execution_count": 85,
     "metadata": {},
     "output_type": "execute_result"
    }
   ],
   "source": [
    "d.keys()"
   ]
  },
  {
   "cell_type": "markdown",
   "id": "71c39136",
   "metadata": {},
   "source": [
    "Итерирование по словарю"
   ]
  },
  {
   "cell_type": "code",
   "execution_count": 86,
   "id": "d952f584",
   "metadata": {},
   "outputs": [
    {
     "name": "stdout",
     "output_type": "stream",
     "text": [
      "key_1 1\n",
      "key_2 10.0\n",
      "key_3 100\n"
     ]
    }
   ],
   "source": [
    "for key in d.keys():\n",
    "    print(key, d[key])"
   ]
  },
  {
   "cell_type": "markdown",
   "id": "4530d10c",
   "metadata": {},
   "source": [
    "Получить значения словаря"
   ]
  },
  {
   "cell_type": "code",
   "execution_count": 87,
   "id": "0c5ee871",
   "metadata": {},
   "outputs": [
    {
     "data": {
      "text/plain": [
       "dict_values([1, 10.0, 100])"
      ]
     },
     "execution_count": 87,
     "metadata": {},
     "output_type": "execute_result"
    }
   ],
   "source": [
    "d.values()"
   ]
  },
  {
   "cell_type": "markdown",
   "id": "4bf60408",
   "metadata": {},
   "source": [
    "Проитерироваться по значениям словаря"
   ]
  },
  {
   "cell_type": "code",
   "execution_count": 88,
   "id": "866b6a8b",
   "metadata": {},
   "outputs": [
    {
     "name": "stdout",
     "output_type": "stream",
     "text": [
      "1\n",
      "10.0\n",
      "100\n"
     ]
    }
   ],
   "source": [
    "for value in d.values():\n",
    "    print(value)"
   ]
  },
  {
   "cell_type": "markdown",
   "id": "78589cc8",
   "metadata": {},
   "source": [
    "Просуммировать значения словаря"
   ]
  },
  {
   "cell_type": "code",
   "execution_count": 89,
   "id": "71b7e484",
   "metadata": {},
   "outputs": [
    {
     "data": {
      "text/plain": [
       "111.0"
      ]
     },
     "execution_count": 89,
     "metadata": {},
     "output_type": "execute_result"
    }
   ],
   "source": [
    "sum(d.values())"
   ]
  },
  {
   "cell_type": "markdown",
   "id": "799667cc",
   "metadata": {},
   "source": [
    "Длина словаря"
   ]
  },
  {
   "cell_type": "code",
   "execution_count": 90,
   "id": "645d76bb",
   "metadata": {},
   "outputs": [
    {
     "data": {
      "text/plain": [
       "3"
      ]
     },
     "execution_count": 90,
     "metadata": {},
     "output_type": "execute_result"
    }
   ],
   "source": [
    "len(d.values())"
   ]
  },
  {
   "cell_type": "markdown",
   "id": "e06a1545",
   "metadata": {},
   "source": [
    "Но лучше использовать этот вариант. Он быстрее"
   ]
  },
  {
   "cell_type": "code",
   "execution_count": 91,
   "id": "40ba2f63",
   "metadata": {},
   "outputs": [
    {
     "data": {
      "text/plain": [
       "3"
      ]
     },
     "execution_count": 91,
     "metadata": {},
     "output_type": "execute_result"
    }
   ],
   "source": [
    "len(d)"
   ]
  },
  {
   "cell_type": "markdown",
   "id": "bdb37fba",
   "metadata": {},
   "source": [
    "Итерироваться можно одновременно по ключам и значения с помощью items"
   ]
  },
  {
   "cell_type": "code",
   "execution_count": 93,
   "id": "659d607c",
   "metadata": {},
   "outputs": [
    {
     "name": "stdout",
     "output_type": "stream",
     "text": [
      "key_1 1\n",
      "key_2 10.0\n",
      "key_3 100\n"
     ]
    }
   ],
   "source": [
    "for key, value in d.items():\n",
    "    print(key, value)"
   ]
  },
  {
   "cell_type": "markdown",
   "id": "ec9cdc70",
   "metadata": {},
   "source": [
    "Инициализация через dict comprehension"
   ]
  },
  {
   "cell_type": "code",
   "execution_count": 94,
   "id": "1937f544",
   "metadata": {},
   "outputs": [
    {
     "data": {
      "text/plain": [
       "{'k1': 1.0, 'k2': 2, 'k3': '3', 4: {'key_1': 4}}"
      ]
     },
     "execution_count": 94,
     "metadata": {},
     "output_type": "execute_result"
    }
   ],
   "source": [
    "keys = ['k1', 'k2', 'k3', 4]\n",
    "values = [1., 2, '3', {'key_1': 4}]\n",
    "d = {key: value for key, value in zip(keys, values)}\n",
    "d"
   ]
  },
  {
   "cell_type": "markdown",
   "id": "b68422fe",
   "metadata": {},
   "source": [
    "Ключами массива могут быть только хэшируемые типы данных. Списки не являются хешируемыми."
   ]
  },
  {
   "cell_type": "code",
   "execution_count": 95,
   "id": "08605385",
   "metadata": {},
   "outputs": [
    {
     "ename": "TypeError",
     "evalue": "unhashable type: 'list'",
     "output_type": "error",
     "traceback": [
      "\u001b[0;31m---------------------------------------------------------------------------\u001b[0m",
      "\u001b[0;31mTypeError\u001b[0m                                 Traceback (most recent call last)",
      "Input \u001b[0;32mIn [95]\u001b[0m, in \u001b[0;36m<cell line: 2>\u001b[0;34m()\u001b[0m\n\u001b[1;32m      1\u001b[0m bad_key \u001b[38;5;241m=\u001b[39m [\u001b[38;5;241m1\u001b[39m,\u001b[38;5;241m2\u001b[39m]\n\u001b[0;32m----> 2\u001b[0m d[bad_key] \u001b[38;5;241m=\u001b[39m \u001b[38;5;241m1\u001b[39m\n",
      "\u001b[0;31mTypeError\u001b[0m: unhashable type: 'list'"
     ]
    }
   ],
   "source": [
    "bad_key = [1,2]\n",
    "d[bad_key] = 1"
   ]
  },
  {
   "cell_type": "markdown",
   "id": "a5c1b50d",
   "metadata": {},
   "source": [
    "А вот кортежи являются"
   ]
  },
  {
   "cell_type": "code",
   "execution_count": 96,
   "id": "e4c36ee9",
   "metadata": {},
   "outputs": [],
   "source": [
    "good_key = (1,2)\n",
    "d[good_key] = 1"
   ]
  },
  {
   "cell_type": "markdown",
   "id": "2c6f27dd",
   "metadata": {},
   "source": [
    "А словари нет"
   ]
  },
  {
   "cell_type": "code",
   "execution_count": 97,
   "id": "5f7e16eb",
   "metadata": {},
   "outputs": [
    {
     "ename": "TypeError",
     "evalue": "unhashable type: 'dict'",
     "output_type": "error",
     "traceback": [
      "\u001b[0;31m---------------------------------------------------------------------------\u001b[0m",
      "\u001b[0;31mTypeError\u001b[0m                                 Traceback (most recent call last)",
      "Input \u001b[0;32mIn [97]\u001b[0m, in \u001b[0;36m<cell line: 2>\u001b[0;34m()\u001b[0m\n\u001b[1;32m      1\u001b[0m bad_key \u001b[38;5;241m=\u001b[39m {\u001b[38;5;124m'\u001b[39m\u001b[38;5;124mk\u001b[39m\u001b[38;5;124m'\u001b[39m: \u001b[38;5;241m1\u001b[39m}\n\u001b[0;32m----> 2\u001b[0m d[bad_key] \u001b[38;5;241m=\u001b[39m \u001b[38;5;241m1\u001b[39m\n",
      "\u001b[0;31mTypeError\u001b[0m: unhashable type: 'dict'"
     ]
    }
   ],
   "source": [
    "bad_key = {'k': 1}\n",
    "d[bad_key] = 1"
   ]
  },
  {
   "cell_type": "markdown",
   "id": "2948840b",
   "metadata": {},
   "source": [
    "Как правило изменяемые типы данных не являются хэшируемыми"
   ]
  },
  {
   "cell_type": "markdown",
   "id": "2a122c44",
   "metadata": {},
   "source": [
    "#### Множества\n",
    "https://pythonworld.ru/tipy-dannyx-v-python/mnozhestva-set-i-frozenset.html"
   ]
  },
  {
   "cell_type": "markdown",
   "id": "d67df719",
   "metadata": {},
   "source": [
    "Инициализация множества"
   ]
  },
  {
   "cell_type": "code",
   "execution_count": 98,
   "id": "77c0e8af",
   "metadata": {},
   "outputs": [
    {
     "data": {
      "text/plain": [
       "{1, 2, 3}"
      ]
     },
     "execution_count": 98,
     "metadata": {},
     "output_type": "execute_result"
    }
   ],
   "source": [
    "s = {1,2,3,3}\n",
    "s"
   ]
  },
  {
   "cell_type": "markdown",
   "id": "ca7b5c95",
   "metadata": {},
   "source": [
    "А вот так делать нельзя! (Почему?)"
   ]
  },
  {
   "cell_type": "code",
   "execution_count": 100,
   "id": "09c1bd4a",
   "metadata": {},
   "outputs": [
    {
     "data": {
      "text/plain": [
       "dict"
      ]
     },
     "execution_count": 100,
     "metadata": {},
     "output_type": "execute_result"
    }
   ],
   "source": [
    "s = {}\n",
    "type(s)"
   ]
  },
  {
   "cell_type": "markdown",
   "id": "70082249",
   "metadata": {},
   "source": [
    "Инициализация пустого множества"
   ]
  },
  {
   "cell_type": "code",
   "execution_count": 101,
   "id": "64017e3c",
   "metadata": {},
   "outputs": [
    {
     "data": {
      "text/plain": [
       "set()"
      ]
     },
     "execution_count": 101,
     "metadata": {},
     "output_type": "execute_result"
    }
   ],
   "source": [
    "s = set()\n",
    "s"
   ]
  },
  {
   "cell_type": "markdown",
   "id": "7345d55d",
   "metadata": {},
   "source": [
    "Set comprehension. Все аналогично"
   ]
  },
  {
   "cell_type": "code",
   "execution_count": 103,
   "id": "4d9aaf90",
   "metadata": {},
   "outputs": [],
   "source": [
    "s = {i for i in range(10) if i % 2 == 0}"
   ]
  },
  {
   "cell_type": "markdown",
   "id": "ed17591e",
   "metadata": {},
   "source": [
    "Если подать на вход строку, то она воспримится как последовательность символов. Результат соответствующий"
   ]
  },
  {
   "cell_type": "code",
   "execution_count": 104,
   "id": "4c0e623b",
   "metadata": {},
   "outputs": [
    {
     "data": {
      "text/plain": [
       "{'e', 's', 't'}"
      ]
     },
     "execution_count": 104,
     "metadata": {},
     "output_type": "execute_result"
    }
   ],
   "source": [
    "s = set('test')\n",
    "s"
   ]
  },
  {
   "cell_type": "markdown",
   "id": "49664c3c",
   "metadata": {},
   "source": [
    "Если нужны элементы-строки, то нужно обернуть из в список"
   ]
  },
  {
   "cell_type": "code",
   "execution_count": 105,
   "id": "9d962c26",
   "metadata": {},
   "outputs": [
    {
     "data": {
      "text/plain": [
       "{'test'}"
      ]
     },
     "execution_count": 105,
     "metadata": {},
     "output_type": "execute_result"
    }
   ],
   "source": [
    "s = set(['test'])\n",
    "s"
   ]
  },
  {
   "cell_type": "markdown",
   "id": "947d10ab",
   "metadata": {},
   "source": [
    "Метод add позволяет добавить элемент в множество"
   ]
  },
  {
   "cell_type": "code",
   "execution_count": 106,
   "id": "70b25aac",
   "metadata": {},
   "outputs": [
    {
     "data": {
      "text/plain": [
       "{123, 'test'}"
      ]
     },
     "execution_count": 106,
     "metadata": {},
     "output_type": "execute_result"
    }
   ],
   "source": [
    "s.add(123)\n",
    "s"
   ]
  },
  {
   "cell_type": "markdown",
   "id": "3670a644",
   "metadata": {},
   "source": [
    "Проверка на принадлежность. Очень важный метод множеств"
   ]
  },
  {
   "cell_type": "code",
   "execution_count": 107,
   "id": "2eaca3f4",
   "metadata": {},
   "outputs": [
    {
     "data": {
      "text/plain": [
       "True"
      ]
     },
     "execution_count": 107,
     "metadata": {},
     "output_type": "execute_result"
    }
   ],
   "source": [
    "'test' in s"
   ]
  },
  {
   "cell_type": "code",
   "execution_count": 108,
   "id": "ed63cc53",
   "metadata": {},
   "outputs": [
    {
     "data": {
      "text/plain": [
       "False"
      ]
     },
     "execution_count": 108,
     "metadata": {},
     "output_type": "execute_result"
    }
   ],
   "source": [
    "'ww' in s"
   ]
  },
  {
   "cell_type": "code",
   "execution_count": 109,
   "id": "8c007acd",
   "metadata": {},
   "outputs": [
    {
     "data": {
      "text/plain": [
       "[123]"
      ]
     },
     "execution_count": 109,
     "metadata": {},
     "output_type": "execute_result"
    }
   ],
   "source": [
    "l = [x for x in range(200) if x in s]\n",
    "l"
   ]
  },
  {
   "cell_type": "code",
   "execution_count": 110,
   "id": "0bcdc0d3",
   "metadata": {},
   "outputs": [
    {
     "name": "stdout",
     "output_type": "stream",
     "text": [
      "123\n",
      "test\n"
     ]
    }
   ],
   "source": [
    "for x in s:\n",
    "    print(x)"
   ]
  },
  {
   "cell_type": "markdown",
   "id": "ff3eaf8b",
   "metadata": {},
   "source": [
    "Метод pop достает случайный объект из множества. Объект возвращается в качестве результата метода и удаляется из множества"
   ]
  },
  {
   "cell_type": "code",
   "execution_count": 111,
   "id": "9928cd17",
   "metadata": {},
   "outputs": [
    {
     "data": {
      "text/plain": [
       "123"
      ]
     },
     "execution_count": 111,
     "metadata": {},
     "output_type": "execute_result"
    }
   ],
   "source": [
    "s = set([1, 'test', 123])\n",
    "s.pop()"
   ]
  },
  {
   "cell_type": "code",
   "execution_count": 112,
   "id": "501dd749",
   "metadata": {},
   "outputs": [
    {
     "data": {
      "text/plain": [
       "{1, 'test'}"
      ]
     },
     "execution_count": 112,
     "metadata": {},
     "output_type": "execute_result"
    }
   ],
   "source": [
    "s"
   ]
  },
  {
   "cell_type": "markdown",
   "id": "4f402b5c",
   "metadata": {},
   "source": [
    "Можно явно удалить объект с помощью метода remove"
   ]
  },
  {
   "cell_type": "code",
   "execution_count": 114,
   "id": "5cde95e0",
   "metadata": {},
   "outputs": [
    {
     "data": {
      "text/plain": [
       "{1}"
      ]
     },
     "execution_count": 114,
     "metadata": {},
     "output_type": "execute_result"
    }
   ],
   "source": [
    "s.remove('test')\n",
    "s"
   ]
  },
  {
   "cell_type": "markdown",
   "id": "dff7d907",
   "metadata": {},
   "source": [
    "Если объект не является элементом множества, то будет брошена ошибка"
   ]
  },
  {
   "cell_type": "code",
   "execution_count": 115,
   "id": "3ccb3ef4",
   "metadata": {},
   "outputs": [
    {
     "ename": "KeyError",
     "evalue": "222",
     "output_type": "error",
     "traceback": [
      "\u001b[0;31m---------------------------------------------------------------------------\u001b[0m",
      "\u001b[0;31mKeyError\u001b[0m                                  Traceback (most recent call last)",
      "Input \u001b[0;32mIn [115]\u001b[0m, in \u001b[0;36m<cell line: 1>\u001b[0;34m()\u001b[0m\n\u001b[0;32m----> 1\u001b[0m \u001b[43ms\u001b[49m\u001b[38;5;241;43m.\u001b[39;49m\u001b[43mremove\u001b[49m\u001b[43m(\u001b[49m\u001b[38;5;241;43m222\u001b[39;49m\u001b[43m)\u001b[49m\n",
      "\u001b[0;31mKeyError\u001b[0m: 222"
     ]
    }
   ],
   "source": [
    "s.remove(222)"
   ]
  },
  {
   "cell_type": "markdown",
   "id": "e25c8a8c",
   "metadata": {},
   "source": [
    "discard сделает то же самое, но не бросит ошибки, если элемент отсутствует"
   ]
  },
  {
   "cell_type": "code",
   "execution_count": 116,
   "id": "1d5c2965",
   "metadata": {},
   "outputs": [],
   "source": [
    "s.discard(222)"
   ]
  },
  {
   "cell_type": "markdown",
   "id": "cedf520a",
   "metadata": {},
   "source": [
    "Сложение (объединение) множеств"
   ]
  },
  {
   "cell_type": "code",
   "execution_count": 117,
   "id": "83e92dd5",
   "metadata": {},
   "outputs": [
    {
     "data": {
      "text/plain": [
       "{'***', 1, 123, 'test'}"
      ]
     },
     "execution_count": 117,
     "metadata": {},
     "output_type": "execute_result"
    }
   ],
   "source": [
    "s = set([1, 'test', 123])\n",
    "s = s | set(['***'])\n",
    "s"
   ]
  },
  {
   "cell_type": "markdown",
   "id": "e8ab8f57",
   "metadata": {},
   "source": [
    "Вычетание множеств"
   ]
  },
  {
   "cell_type": "code",
   "execution_count": 118,
   "id": "2965a018",
   "metadata": {},
   "outputs": [
    {
     "data": {
      "text/plain": [
       "{'***', 1}"
      ]
     },
     "execution_count": 118,
     "metadata": {},
     "output_type": "execute_result"
    }
   ],
   "source": [
    "s - set(['test', 123])"
   ]
  },
  {
   "cell_type": "markdown",
   "id": "4ede36e1",
   "metadata": {},
   "source": [
    "Пересечение множеств"
   ]
  },
  {
   "cell_type": "code",
   "execution_count": 119,
   "id": "27d5ff69",
   "metadata": {},
   "outputs": [
    {
     "data": {
      "text/plain": [
       "{1}"
      ]
     },
     "execution_count": 119,
     "metadata": {},
     "output_type": "execute_result"
    }
   ],
   "source": [
    "s & set([1,2,3])"
   ]
  },
  {
   "cell_type": "markdown",
   "id": "9fa85ac0",
   "metadata": {},
   "source": [
    "#### Frozenset"
   ]
  },
  {
   "cell_type": "code",
   "execution_count": 133,
   "id": "c8eded32",
   "metadata": {},
   "outputs": [
    {
     "data": {
      "text/plain": [
       "True"
      ]
     },
     "execution_count": 133,
     "metadata": {},
     "output_type": "execute_result"
    }
   ],
   "source": [
    "a = set('qwerty')\n",
    "b = frozenset('qwerty')\n",
    "\n",
    "a == b"
   ]
  },
  {
   "cell_type": "code",
   "execution_count": 136,
   "id": "b5b6702d",
   "metadata": {},
   "outputs": [
    {
     "ename": "AttributeError",
     "evalue": "'frozenset' object has no attribute 'add'",
     "output_type": "error",
     "traceback": [
      "\u001b[0;31m---------------------------------------------------------------------------\u001b[0m",
      "\u001b[0;31mAttributeError\u001b[0m                            Traceback (most recent call last)",
      "Input \u001b[0;32mIn [136]\u001b[0m, in \u001b[0;36m<cell line: 1>\u001b[0;34m()\u001b[0m\n\u001b[0;32m----> 1\u001b[0m \u001b[43mb\u001b[49m\u001b[38;5;241;43m.\u001b[39;49m\u001b[43madd\u001b[49m(\u001b[38;5;124m'\u001b[39m\u001b[38;5;124mu\u001b[39m\u001b[38;5;124m'\u001b[39m)\n",
      "\u001b[0;31mAttributeError\u001b[0m: 'frozenset' object has no attribute 'add'"
     ]
    }
   ],
   "source": [
    "b.add('u')"
   ]
  },
  {
   "cell_type": "code",
   "execution_count": 134,
   "id": "2cddea20",
   "metadata": {},
   "outputs": [
    {
     "ename": "TypeError",
     "evalue": "unhashable type: 'set'",
     "output_type": "error",
     "traceback": [
      "\u001b[0;31m---------------------------------------------------------------------------\u001b[0m",
      "\u001b[0;31mTypeError\u001b[0m                                 Traceback (most recent call last)",
      "Input \u001b[0;32mIn [134]\u001b[0m, in \u001b[0;36m<cell line: 1>\u001b[0;34m()\u001b[0m\n\u001b[0;32m----> 1\u001b[0m d \u001b[38;5;241m=\u001b[39m {a: \u001b[38;5;241m1\u001b[39m}\n",
      "\u001b[0;31mTypeError\u001b[0m: unhashable type: 'set'"
     ]
    }
   ],
   "source": [
    "d = {a: 1}"
   ]
  },
  {
   "cell_type": "code",
   "execution_count": 135,
   "id": "3cbf9888",
   "metadata": {},
   "outputs": [],
   "source": [
    "d = {b: 1}"
   ]
  },
  {
   "cell_type": "markdown",
   "id": "0ee6c1c7",
   "metadata": {},
   "source": [
    "#### Итераторы"
   ]
  },
  {
   "cell_type": "code",
   "execution_count": 120,
   "id": "ef499da2",
   "metadata": {},
   "outputs": [],
   "source": [
    "l = [1,2,3,4]"
   ]
  },
  {
   "cell_type": "code",
   "execution_count": 128,
   "id": "a8406b42",
   "metadata": {},
   "outputs": [],
   "source": [
    "iterator = l.__iter__()"
   ]
  },
  {
   "cell_type": "code",
   "execution_count": 132,
   "id": "b96f7486",
   "metadata": {},
   "outputs": [
    {
     "data": {
      "text/plain": [
       "list_iterator"
      ]
     },
     "execution_count": 132,
     "metadata": {},
     "output_type": "execute_result"
    }
   ],
   "source": [
    "type(iterator)"
   ]
  },
  {
   "cell_type": "code",
   "execution_count": 129,
   "id": "ee9664e8",
   "metadata": {},
   "outputs": [
    {
     "data": {
      "text/plain": [
       "1"
      ]
     },
     "execution_count": 129,
     "metadata": {},
     "output_type": "execute_result"
    }
   ],
   "source": [
    "iterator.__next__()"
   ]
  },
  {
   "cell_type": "code",
   "execution_count": 130,
   "id": "eee91f8e",
   "metadata": {},
   "outputs": [
    {
     "data": {
      "text/plain": [
       "2"
      ]
     },
     "execution_count": 130,
     "metadata": {},
     "output_type": "execute_result"
    }
   ],
   "source": [
    "iterator.__next__()"
   ]
  },
  {
   "cell_type": "code",
   "execution_count": 131,
   "id": "2babdeba",
   "metadata": {},
   "outputs": [
    {
     "data": {
      "text/plain": [
       "3"
      ]
     },
     "execution_count": 131,
     "metadata": {},
     "output_type": "execute_result"
    }
   ],
   "source": [
    "iterator.__next__()"
   ]
  },
  {
   "cell_type": "markdown",
   "id": "0f334eef",
   "metadata": {},
   "source": [
    "#### hash"
   ]
  },
  {
   "cell_type": "code",
   "execution_count": 137,
   "id": "66ca4df0",
   "metadata": {},
   "outputs": [
    {
     "data": {
      "text/plain": [
       "123"
      ]
     },
     "execution_count": 137,
     "metadata": {},
     "output_type": "execute_result"
    }
   ],
   "source": [
    "hash(123)"
   ]
  },
  {
   "cell_type": "code",
   "execution_count": 138,
   "id": "b5b792dd",
   "metadata": {},
   "outputs": [
    {
     "data": {
      "text/plain": [
       "322818021289917443"
      ]
     },
     "execution_count": 138,
     "metadata": {},
     "output_type": "execute_result"
    }
   ],
   "source": [
    "hash(3.14)"
   ]
  },
  {
   "cell_type": "code",
   "execution_count": 140,
   "id": "e6567824",
   "metadata": {},
   "outputs": [
    {
     "data": {
      "text/plain": [
       "3563880245618986078"
      ]
     },
     "execution_count": 140,
     "metadata": {},
     "output_type": "execute_result"
    }
   ],
   "source": [
    "hash(\"123\")"
   ]
  },
  {
   "cell_type": "code",
   "execution_count": 141,
   "id": "92d252d9",
   "metadata": {},
   "outputs": [
    {
     "ename": "TypeError",
     "evalue": "unhashable type: 'list'",
     "output_type": "error",
     "traceback": [
      "\u001b[0;31m---------------------------------------------------------------------------\u001b[0m",
      "\u001b[0;31mTypeError\u001b[0m                                 Traceback (most recent call last)",
      "Input \u001b[0;32mIn [141]\u001b[0m, in \u001b[0;36m<cell line: 1>\u001b[0;34m()\u001b[0m\n\u001b[0;32m----> 1\u001b[0m \u001b[38;5;28;43mhash\u001b[39;49m\u001b[43m(\u001b[49m\u001b[43m[\u001b[49m\u001b[38;5;241;43m1\u001b[39;49m\u001b[43m,\u001b[49m\u001b[38;5;241;43m2\u001b[39;49m\u001b[43m,\u001b[49m\u001b[38;5;241;43m3\u001b[39;49m\u001b[43m]\u001b[49m\u001b[43m)\u001b[49m\n",
      "\u001b[0;31mTypeError\u001b[0m: unhashable type: 'list'"
     ]
    }
   ],
   "source": [
    "hash([1,2,3])"
   ]
  },
  {
   "cell_type": "code",
   "execution_count": 142,
   "id": "3fdd13c8",
   "metadata": {},
   "outputs": [
    {
     "data": {
      "text/plain": [
       "-272375401224217160"
      ]
     },
     "execution_count": 142,
     "metadata": {},
     "output_type": "execute_result"
    }
   ],
   "source": [
    "f = frozenset([1,2,3])\n",
    "hash(f)"
   ]
  },
  {
   "cell_type": "code",
   "execution_count": 143,
   "id": "7196ccac",
   "metadata": {},
   "outputs": [
    {
     "ename": "TypeError",
     "evalue": "unhashable type: 'list'",
     "output_type": "error",
     "traceback": [
      "\u001b[0;31m---------------------------------------------------------------------------\u001b[0m",
      "\u001b[0;31mTypeError\u001b[0m                                 Traceback (most recent call last)",
      "Input \u001b[0;32mIn [143]\u001b[0m, in \u001b[0;36m<cell line: 1>\u001b[0;34m()\u001b[0m\n\u001b[0;32m----> 1\u001b[0m f \u001b[38;5;241m=\u001b[39m \u001b[38;5;28;43mfrozenset\u001b[39;49m\u001b[43m(\u001b[49m\u001b[43m[\u001b[49m\u001b[38;5;241;43m1\u001b[39;49m\u001b[43m,\u001b[49m\u001b[38;5;241;43m2\u001b[39;49m\u001b[43m,\u001b[49m\u001b[38;5;241;43m3\u001b[39;49m\u001b[43m,\u001b[49m\u001b[43m \u001b[49m\u001b[43m[\u001b[49m\u001b[38;5;241;43m1\u001b[39;49m\u001b[43m,\u001b[49m\u001b[38;5;241;43m2\u001b[39;49m\u001b[43m,\u001b[49m\u001b[38;5;241;43m3\u001b[39;49m\u001b[43m]\u001b[49m\u001b[43m]\u001b[49m\u001b[43m)\u001b[49m\n\u001b[1;32m      2\u001b[0m \u001b[38;5;28mhash\u001b[39m(f)\n",
      "\u001b[0;31mTypeError\u001b[0m: unhashable type: 'list'"
     ]
    }
   ],
   "source": [
    "f = frozenset([1,2,3, [1,2,3]])\n",
    "hash(f)"
   ]
  },
  {
   "cell_type": "code",
   "execution_count": null,
   "id": "548644cc",
   "metadata": {},
   "outputs": [],
   "source": []
  }
 ],
 "metadata": {
  "kernelspec": {
   "display_name": "Python 3 (ipykernel)",
   "language": "python",
   "name": "python3"
  },
  "language_info": {
   "codemirror_mode": {
    "name": "ipython",
    "version": 3
   },
   "file_extension": ".py",
   "mimetype": "text/x-python",
   "name": "python",
   "nbconvert_exporter": "python",
   "pygments_lexer": "ipython3",
   "version": "3.9.13"
  }
 },
 "nbformat": 4,
 "nbformat_minor": 5
}
